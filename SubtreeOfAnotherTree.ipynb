{
 "cells": [
  {
   "cell_type": "code",
   "execution_count": 1,
   "metadata": {},
   "outputs": [],
   "source": [
    "class TreeNode:\n",
    "    def __init__(self, x):\n",
    "        self.val = x\n",
    "        self.left = None\n",
    "        self.right = None"
   ]
  },
  {
   "cell_type": "code",
   "execution_count": null,
   "metadata": {},
   "outputs": [],
   "source": [
    "def isSubtree(s, t):\n",
    "    # Given two non-empty binary trees s and t, check whether tree t has exactly the same structure \n",
    "    # and node values with a subtree of s\n",
    "    if not t:\n",
    "        return True\n",
    "    if not s:\n",
    "        return False\n",
    "    if isSametree(s, t):\n",
    "        return True\n",
    "    return isSubtree(s.left, t) or isSubtree(s.right, t)\n",
    "\n",
    "def isSametree(s, t):\n",
    "    if not s and not t:\n",
    "        return True\n",
    "    if not s or not t:\n",
    "        return False\n",
    "    if s.val != t.val:\n",
    "        return False\n",
    "    return isSametree(s.left, t.left) and isSametree(s.right, t.right)"
   ]
  }
 ],
 "metadata": {
  "kernelspec": {
   "display_name": "Python 3",
   "language": "python",
   "name": "python3"
  },
  "language_info": {
   "codemirror_mode": {
    "name": "ipython",
    "version": 3
   },
   "file_extension": ".py",
   "mimetype": "text/x-python",
   "name": "python",
   "nbconvert_exporter": "python",
   "pygments_lexer": "ipython3",
   "version": "3.7.6"
  }
 },
 "nbformat": 4,
 "nbformat_minor": 4
}
