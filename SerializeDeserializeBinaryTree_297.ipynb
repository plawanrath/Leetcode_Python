{
 "cells": [
  {
   "cell_type": "code",
   "execution_count": 5,
   "metadata": {},
   "outputs": [],
   "source": [
    "class TreeNode:\n",
    "    def __init__(self, x):\n",
    "        self.val = x\n",
    "        self.left = None\n",
    "        self.right = None\n",
    "\n",
    "class Codec:\n",
    "    def serialize(self, root):\n",
    "        return self.serialize_dfs(root, '')\n",
    "    \n",
    "    def serialize_dfs(self, root, res):\n",
    "        if not root:\n",
    "            res += 'None,'\n",
    "        else:\n",
    "            res += str(root.val) + ','\n",
    "            res = self.serialize_dfs(root.left, res)\n",
    "            res = self.serialize_dfs(root.right, res)\n",
    "        return res\n",
    "    \n",
    "    def deserialize(self, data):\n",
    "        node_list = data.split(',')\n",
    "        return self.deserialize_dfs(node_list)\n",
    "    \n",
    "    def deserialize_dfs(self, node_list):\n",
    "        if node_list[0] == 'None':\n",
    "            node_list.pop(0)\n",
    "            return None\n",
    "        \n",
    "        root = TreeNode(node_list[0])\n",
    "        node_list.pop(0)\n",
    "        root.left = self.deserialize_dfs(node_list)\n",
    "        root.right = self.deserialize_dfs(node_list)\n",
    "        return root"
   ]
  },
  {
   "cell_type": "code",
   "execution_count": 6,
   "metadata": {},
   "outputs": [],
   "source": [
    "node1 = TreeNode(1)\n",
    "node2 = TreeNode(2)\n",
    "node3 = TreeNode(3)\n",
    "node4 = TreeNode(4)\n",
    "node5 = TreeNode(5)\n",
    "node1.left = node2\n",
    "node1.right = node3\n",
    "node3.left = node4\n",
    "node3.right = node5"
   ]
  },
  {
   "cell_type": "code",
   "execution_count": 7,
   "metadata": {},
   "outputs": [
    {
     "data": {
      "text/plain": [
       "'1,2,None,None,3,4,None,None,5,None,None,'"
      ]
     },
     "execution_count": 7,
     "metadata": {},
     "output_type": "execute_result"
    }
   ],
   "source": [
    "codec = Codec()\n",
    "codec.serialize(node1)"
   ]
  },
  {
   "cell_type": "code",
   "execution_count": null,
   "metadata": {},
   "outputs": [],
   "source": []
  }
 ],
 "metadata": {
  "kernelspec": {
   "display_name": "Python 3",
   "language": "python",
   "name": "python3"
  },
  "language_info": {
   "codemirror_mode": {
    "name": "ipython",
    "version": 3
   },
   "file_extension": ".py",
   "mimetype": "text/x-python",
   "name": "python",
   "nbconvert_exporter": "python",
   "pygments_lexer": "ipython3",
   "version": "3.7.6"
  }
 },
 "nbformat": 4,
 "nbformat_minor": 4
}
