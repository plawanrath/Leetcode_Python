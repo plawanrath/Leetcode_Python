{
 "cells": [
  {
   "cell_type": "markdown",
   "metadata": {},
   "source": [
    "### Given a string in the form 'AAAABBBBCCCCCDDEEEE' compress it to become A4B4C5D2E4. For this problem, you can falsely compress string of single or double letters. For example, AAB can return A2B1 even though that technically takes more space. THe function should be case sensitive."
   ]
  },
  {
   "cell_type": "code",
   "execution_count": 12,
   "metadata": {},
   "outputs": [],
   "source": [
    "def compress(s):\n",
    "    if len(s) == 0:\n",
    "        return s\n",
    "    str_map = {}\n",
    "    charlist = []\n",
    "    for char in s:\n",
    "        if char not in str_map:\n",
    "            charlist.append(char)\n",
    "        str_map[char] = str_map.get(char, 0) + 1\n",
    "    res = \"\"\n",
    "    for char in charlist:\n",
    "        res += char\n",
    "        res += str(str_map[char])\n",
    "    return res"
   ]
  },
  {
   "cell_type": "code",
   "execution_count": 17,
   "metadata": {},
   "outputs": [],
   "source": [
    "# Run Length Compression Algorithm\n",
    "def compress_optimal(s): # This will only work if all repeating characters are together\n",
    "    r = \"\"\n",
    "    l = len(s)\n",
    "    \n",
    "    if l == 0:\n",
    "        return s\n",
    "    \n",
    "    if l == 1:\n",
    "        return s + \"1\"\n",
    "    \n",
    "    count = 1\n",
    "    i = 1\n",
    "    \n",
    "    while i < l:\n",
    "        if s[i] == s[i-1]:\n",
    "            count += 1\n",
    "        else:\n",
    "            r = r + s[i-1] + str(count)\n",
    "            count = 1\n",
    "        i += 1\n",
    "    r = r + s[i-1] + str(count)\n",
    "    return r"
   ]
  },
  {
   "cell_type": "code",
   "execution_count": 18,
   "metadata": {},
   "outputs": [
    {
     "data": {
      "text/plain": [
       "'A4B4C5D2E4'"
      ]
     },
     "execution_count": 18,
     "metadata": {},
     "output_type": "execute_result"
    }
   ],
   "source": [
    "compress_optimal('AAAABBBBCCCCCDDEEEE')"
   ]
  },
  {
   "cell_type": "code",
   "execution_count": 19,
   "metadata": {},
   "outputs": [
    {
     "name": "stdout",
     "output_type": "stream",
     "text": [
      "All Tests Passed\n",
      "All Tests Passed\n"
     ]
    }
   ],
   "source": [
    "from nose.tools import assert_equal\n",
    "\n",
    "class TestCompress(object):\n",
    "    \n",
    "    def test(self, sol):\n",
    "        assert_equal(sol(''), '')\n",
    "        assert_equal(sol('AABBCC'), 'A2B2C2')\n",
    "        assert_equal(sol('AAABCCDDDDD'), 'A3B1C2D5')\n",
    "        print ('All Tests Passed')\n",
    "        \n",
    "t = TestCompress()\n",
    "t.test(compress)\n",
    "t.test(compress_optimal)"
   ]
  },
  {
   "cell_type": "code",
   "execution_count": null,
   "metadata": {},
   "outputs": [],
   "source": []
  }
 ],
 "metadata": {
  "kernelspec": {
   "display_name": "Python 3",
   "language": "python",
   "name": "python3"
  },
  "language_info": {
   "codemirror_mode": {
    "name": "ipython",
    "version": 3
   },
   "file_extension": ".py",
   "mimetype": "text/x-python",
   "name": "python",
   "nbconvert_exporter": "python",
   "pygments_lexer": "ipython3",
   "version": "3.7.6"
  }
 },
 "nbformat": 4,
 "nbformat_minor": 4
}
