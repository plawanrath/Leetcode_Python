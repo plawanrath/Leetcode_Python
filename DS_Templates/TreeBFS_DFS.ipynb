{
 "cells": [
  {
   "cell_type": "code",
   "execution_count": 1,
   "metadata": {},
   "outputs": [],
   "source": [
    "class TreeNode:\n",
    "    def __init__(self, val):\n",
    "        self.value = val\n",
    "        self.left = None\n",
    "        self.right = None"
   ]
  },
  {
   "cell_type": "markdown",
   "metadata": {},
   "source": [
    "### DFS"
   ]
  },
  {
   "cell_type": "code",
   "execution_count": 5,
   "metadata": {},
   "outputs": [],
   "source": [
    "def dfs_preorder(root):\n",
    "    if root:\n",
    "        print (root.value, end = \" \")\n",
    "        dfs_preorder(root.left)\n",
    "        dfs_preorder(root.right)\n",
    "\n",
    "def dfs_inorder(root):\n",
    "    if root:\n",
    "        dfs_inorder(root.left)\n",
    "        print (root.value, end = \" \")\n",
    "        dfs_inorder(root.right)\n",
    "\n",
    "def dfs_postorder(root):\n",
    "    if root:\n",
    "        dfs_postorder(root.left)\n",
    "        dfs_postorder(root.right)\n",
    "        print (root.value, end = \" \")"
   ]
  },
  {
   "cell_type": "code",
   "execution_count": 6,
   "metadata": {},
   "outputs": [],
   "source": [
    "root = TreeNode(4)\n",
    "root.left = TreeNode(5)\n",
    "root.right = TreeNode(10)\n",
    "root.left.left = TreeNode(8)\n",
    "root.right.right = TreeNode(12)"
   ]
  },
  {
   "cell_type": "code",
   "execution_count": 7,
   "metadata": {},
   "outputs": [
    {
     "name": "stdout",
     "output_type": "stream",
     "text": [
      "4 5 8 10 12 "
     ]
    }
   ],
   "source": [
    "dfs_preorder(root)"
   ]
  },
  {
   "cell_type": "code",
   "execution_count": 8,
   "metadata": {},
   "outputs": [
    {
     "name": "stdout",
     "output_type": "stream",
     "text": [
      "8 5 4 10 12 "
     ]
    }
   ],
   "source": [
    "dfs_inorder(root)"
   ]
  },
  {
   "cell_type": "code",
   "execution_count": 9,
   "metadata": {},
   "outputs": [
    {
     "name": "stdout",
     "output_type": "stream",
     "text": [
      "8 5 12 10 4 "
     ]
    }
   ],
   "source": [
    "dfs_postorder(root)"
   ]
  },
  {
   "cell_type": "markdown",
   "metadata": {},
   "source": [
    "### BFS"
   ]
  },
  {
   "cell_type": "code",
   "execution_count": 12,
   "metadata": {},
   "outputs": [],
   "source": [
    "from queue import Queue\n",
    "def bfs(root):\n",
    "    q = Queue()\n",
    "    if root:\n",
    "        q.put(root)\n",
    "    while not q.empty():\n",
    "        node = q.get()\n",
    "        print (node.value, end = \" \")\n",
    "        if node.left:\n",
    "            q.put(node.left)\n",
    "        if node.right:\n",
    "            q.put(node.right)"
   ]
  },
  {
   "cell_type": "code",
   "execution_count": 13,
   "metadata": {},
   "outputs": [
    {
     "name": "stdout",
     "output_type": "stream",
     "text": [
      "4 5 10 8 12 "
     ]
    }
   ],
   "source": [
    "bfs(root)"
   ]
  },
  {
   "cell_type": "markdown",
   "metadata": {},
   "source": [
    "### Level Order Traversal"
   ]
  },
  {
   "cell_type": "markdown",
   "metadata": {},
   "source": [
    "#### Using Recursion (DFS)"
   ]
  },
  {
   "cell_type": "code",
   "execution_count": 20,
   "metadata": {},
   "outputs": [],
   "source": [
    "levels = []\n",
    "def getLevels(root):\n",
    "    if root:\n",
    "        dfs(root, 0)\n",
    "    return levels\n",
    "    \n",
    "def dfs(root, currlevel):\n",
    "    if len(levels) == currlevel:\n",
    "        levels.append([])\n",
    "    levels[currlevel].append(root.value)\n",
    "    if root.left:\n",
    "        dfs(root.left, currlevel+1)\n",
    "    if root.right:\n",
    "        dfs(root.right, currlevel+1)"
   ]
  },
  {
   "cell_type": "code",
   "execution_count": 21,
   "metadata": {},
   "outputs": [
    {
     "data": {
      "text/plain": [
       "[[4], [5, 10], [8, 12]]"
      ]
     },
     "execution_count": 21,
     "metadata": {},
     "output_type": "execute_result"
    }
   ],
   "source": [
    "getLevels(root)"
   ]
  },
  {
   "cell_type": "markdown",
   "metadata": {},
   "source": [
    "#### Using BFS"
   ]
  },
  {
   "cell_type": "code",
   "execution_count": 26,
   "metadata": {},
   "outputs": [],
   "source": [
    "def getLevels_BFS(root):\n",
    "    q = Queue()\n",
    "    levels = []\n",
    "    level = 0\n",
    "    if root:\n",
    "        q.put(root)\n",
    "    while not q.empty():\n",
    "        levels.append([])\n",
    "        level_len = q.qsize()\n",
    "        for i in range(level_len):\n",
    "            node = q.get()\n",
    "            levels[level].append(node.value)\n",
    "            if node.left:\n",
    "                q.put(node.left)\n",
    "            if node.right:\n",
    "                q.put(node.right)\n",
    "        level += 1\n",
    "    return levels"
   ]
  },
  {
   "cell_type": "code",
   "execution_count": 27,
   "metadata": {},
   "outputs": [
    {
     "data": {
      "text/plain": [
       "[[4], [5, 10], [8, 12]]"
      ]
     },
     "execution_count": 27,
     "metadata": {},
     "output_type": "execute_result"
    }
   ],
   "source": [
    "getLevels_BFS(root)"
   ]
  },
  {
   "cell_type": "markdown",
   "metadata": {},
   "source": [
    "### Height of a Binary Tree"
   ]
  },
  {
   "cell_type": "code",
   "execution_count": 32,
   "metadata": {},
   "outputs": [],
   "source": [
    "# height = 0\n",
    "def getHeight(root, height = 0):\n",
    "    if not root:\n",
    "        return height\n",
    "    height += 1\n",
    "    leftHeight = getHeight(root.left, height)\n",
    "    rightHeight = getHeight(root.right, height)\n",
    "    return max(leftHeight, rightHeight)"
   ]
  },
  {
   "cell_type": "code",
   "execution_count": 33,
   "metadata": {},
   "outputs": [
    {
     "data": {
      "text/plain": [
       "3"
      ]
     },
     "execution_count": 33,
     "metadata": {},
     "output_type": "execute_result"
    }
   ],
   "source": [
    "getHeight(root)"
   ]
  },
  {
   "cell_type": "code",
   "execution_count": null,
   "metadata": {},
   "outputs": [],
   "source": []
  }
 ],
 "metadata": {
  "kernelspec": {
   "display_name": "Python 3",
   "language": "python",
   "name": "python3"
  },
  "language_info": {
   "codemirror_mode": {
    "name": "ipython",
    "version": 3
   },
   "file_extension": ".py",
   "mimetype": "text/x-python",
   "name": "python",
   "nbconvert_exporter": "python",
   "pygments_lexer": "ipython3",
   "version": "3.7.6"
  }
 },
 "nbformat": 4,
 "nbformat_minor": 4
}
