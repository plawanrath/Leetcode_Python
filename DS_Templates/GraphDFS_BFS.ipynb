{
 "cells": [
  {
   "cell_type": "code",
   "execution_count": 8,
   "metadata": {},
   "outputs": [],
   "source": [
    "from collections import defaultdict\n",
    "from queue import Queue\n",
    "class Graph:\n",
    "    def __init__(self):\n",
    "        self.graph = defaultdict(list)\n",
    "    \n",
    "    def addEdge(self, u, v):\n",
    "        self.graph[u].append(v)\n",
    "    \n",
    "    def getChildren(self, vertex):\n",
    "        return self.graph[vertex]\n",
    "    \n",
    "    def DFSUtil(self, v, visited):\n",
    "        visited[v] = True\n",
    "        # Perform an action when you visit a node in recursion\n",
    "        print (v, end = ' ')\n",
    "        for i in self.graph[v]:\n",
    "            if not visited[i]:\n",
    "                self.DFSUtil(i, visited)\n",
    "    \n",
    "    def DFS(self, v):\n",
    "        vLen = len(self.graph)\n",
    "        visited = [False] * (vLen)\n",
    "        # Doing this instead of simply calling the recursive function will handle case when a graph has some\n",
    "        # edges that are not connected.\n",
    "        for i in range(vLen):\n",
    "            if not visited[i]:     \n",
    "                self.DFSUtil(i, visited)\n",
    "    \n",
    "    def BFS(self, v):\n",
    "        vLen = len(self.graph)\n",
    "        visited = [False] * (vLen)\n",
    "        q = Queue()\n",
    "        q.put(v)\n",
    "        visited[v] = True\n",
    "        while not q.empty():\n",
    "            s = q.get()\n",
    "            print(s, end=\" \")\n",
    "            for i in range(vLen):\n",
    "                if not visited[i]:\n",
    "                    q.put(i)\n",
    "                    visited[i] = True"
   ]
  },
  {
   "cell_type": "code",
   "execution_count": 9,
   "metadata": {},
   "outputs": [
    {
     "name": "stdout",
     "output_type": "stream",
     "text": [
      "0 1 2 3 "
     ]
    }
   ],
   "source": [
    "g = Graph()\n",
    "g.addEdge(0, 1)\n",
    "g.addEdge(0, 2)\n",
    "g.addEdge(1, 2)\n",
    "g.addEdge(2, 0)\n",
    "g.addEdge(2, 3)\n",
    "g.addEdge(3, 3)\n",
    "g.DFS(2)"
   ]
  },
  {
   "cell_type": "code",
   "execution_count": 10,
   "metadata": {},
   "outputs": [
    {
     "name": "stdout",
     "output_type": "stream",
     "text": [
      "2 0 1 3 "
     ]
    }
   ],
   "source": [
    "g.BFS(2)"
   ]
  },
  {
   "cell_type": "markdown",
   "metadata": {},
   "source": [
    "### Time Complexity: O(V+E) where V is number of vertices in the graph and E is number of edges in the graph."
   ]
  },
  {
   "cell_type": "code",
   "execution_count": null,
   "metadata": {},
   "outputs": [],
   "source": []
  }
 ],
 "metadata": {
  "kernelspec": {
   "display_name": "Python 3",
   "language": "python",
   "name": "python3"
  },
  "language_info": {
   "codemirror_mode": {
    "name": "ipython",
    "version": 3
   },
   "file_extension": ".py",
   "mimetype": "text/x-python",
   "name": "python",
   "nbconvert_exporter": "python",
   "pygments_lexer": "ipython3",
   "version": "3.7.6"
  }
 },
 "nbformat": 4,
 "nbformat_minor": 4
}
