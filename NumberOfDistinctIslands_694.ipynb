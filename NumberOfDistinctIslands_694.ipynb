{
 "cells": [
  {
   "cell_type": "code",
   "execution_count": 1,
   "metadata": {},
   "outputs": [],
   "source": [
    "# DFS\n",
    "def numDistinctIslands(grid):\n",
    "    seen = set()\n",
    "    def explore(r, c, direction = 0):\n",
    "        if (0 <= r < len(grid) and 0 <= c < len(grid[0]) and grid[r][c] and (r, c) not in seen):\n",
    "            seen.add((r,c))\n",
    "            shape.append(direction)\n",
    "            explore(r+1, c, 1)\n",
    "            explore(r-1, c, 2)\n",
    "            explore(r, c+1, 3)\n",
    "            explore(r, c-1, 4)\n",
    "            shape.append(0)\n",
    "    shapes = set()\n",
    "    for r in range(len(grid)):\n",
    "        for c in range(len(grid[0])):\n",
    "            shape = []\n",
    "            explore(r, c)\n",
    "            if shape:\n",
    "                shapes.add(tuple(shape)) # converting lists to tuple since tuples are immutable\n",
    "    return len(shapes)"
   ]
  },
  {
   "cell_type": "code",
   "execution_count": null,
   "metadata": {},
   "outputs": [],
   "source": []
  }
 ],
 "metadata": {
  "kernelspec": {
   "display_name": "Python 3",
   "language": "python",
   "name": "python3"
  },
  "language_info": {
   "codemirror_mode": {
    "name": "ipython",
    "version": 3
   },
   "file_extension": ".py",
   "mimetype": "text/x-python",
   "name": "python",
   "nbconvert_exporter": "python",
   "pygments_lexer": "ipython3",
   "version": "3.7.6"
  }
 },
 "nbformat": 4,
 "nbformat_minor": 4
}
