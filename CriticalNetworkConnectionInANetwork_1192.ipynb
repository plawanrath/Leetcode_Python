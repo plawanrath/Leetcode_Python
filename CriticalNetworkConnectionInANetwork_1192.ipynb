{
 "cells": [
  {
   "cell_type": "code",
   "execution_count": 5,
   "metadata": {},
   "outputs": [],
   "source": [
    "from typing import List\n",
    "from collections import defaultdict\n",
    "def criticalConnections(n: int, connections: List[List[int]]) -> List[List[int]]:\n",
    "    connectionDict = defaultdict(set)\n",
    "    for u, v in connections:\n",
    "        connectionDict[u].add(v)\n",
    "        connectionDict[v].add(u)\n",
    "    steps = [-1]*n\n",
    "    res = []\n",
    "    helper(\n",
    "        current=0,\n",
    "        parent=-1,\n",
    "        level=0,\n",
    "        steps=steps,\n",
    "        connectionDict=connectionDict,\n",
    "        result=res,\n",
    "    )\n",
    "    return res\n",
    "\n",
    "def helper(current, parent, level, steps, connectionDict, result):\n",
    "    steps[current] = level\n",
    "    for child in connectionDict[current]:\n",
    "        if child == parent:\n",
    "            continue\n",
    "        if steps[child] == -1:\n",
    "            min_step = helper(\n",
    "                current=child,\n",
    "                parent=current,\n",
    "                level=level+1,\n",
    "                steps=steps,\n",
    "                connectionDict=connectionDict,\n",
    "                result=result,\n",
    "            )\n",
    "            steps[current] = min(steps[current], min_step)\n",
    "        else:\n",
    "            steps[current] = min(steps[current], steps[child])\n",
    "    if steps[current] == level and current != 0:\n",
    "        result.append([current, parent])\n",
    "    return steps[current]"
   ]
  },
  {
   "cell_type": "code",
   "execution_count": 6,
   "metadata": {},
   "outputs": [
    {
     "data": {
      "text/plain": [
       "[[3, 1]]"
      ]
     },
     "execution_count": 6,
     "metadata": {},
     "output_type": "execute_result"
    }
   ],
   "source": [
    "n = 4\n",
    "conncetions = [[0,1],[1,2],[2,0],[1,3]]\n",
    "criticalConnections(n, conncetions)"
   ]
  },
  {
   "cell_type": "code",
   "execution_count": null,
   "metadata": {},
   "outputs": [],
   "source": []
  }
 ],
 "metadata": {
  "kernelspec": {
   "display_name": "Python 3",
   "language": "python",
   "name": "python3"
  },
  "language_info": {
   "codemirror_mode": {
    "name": "ipython",
    "version": 3
   },
   "file_extension": ".py",
   "mimetype": "text/x-python",
   "name": "python",
   "nbconvert_exporter": "python",
   "pygments_lexer": "ipython3",
   "version": "3.7.6"
  }
 },
 "nbformat": 4,
 "nbformat_minor": 4
}
