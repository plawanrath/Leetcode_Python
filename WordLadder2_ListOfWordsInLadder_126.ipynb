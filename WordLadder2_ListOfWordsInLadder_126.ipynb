{
 "cells": [
  {
   "cell_type": "code",
   "execution_count": 23,
   "metadata": {},
   "outputs": [],
   "source": [
    "from collections import defaultdict\n",
    "from collections import deque\n",
    "def findLadders(beginWord, endWord, wordList):\n",
    "    if not endWord or not beginWord or not wordList or endWord not in wordList or beginWord == endWord:\n",
    "        return []\n",
    "    length = len(beginWord)\n",
    "    comboDict = defaultdict(list)\n",
    "    for word in wordList:\n",
    "        for i in range(length):\n",
    "            comboDict[word[:i] + \"_\" + word[i+1:]].append(word)\n",
    "    \n",
    "    res = []\n",
    "    \n",
    "    # BFS\n",
    "    q = deque()\n",
    "    q.append((beginWord, [beginWord]))\n",
    "    visited = set([beginWord])\n",
    "    found = False\n",
    "    while q and not found:\n",
    "        qlength = len(q)\n",
    "        localVisited = set()\n",
    "        for _ in range(qlength):\n",
    "            word, path = q.popleft()\n",
    "            for i in range(length):\n",
    "                for nextWord in comboDict[word[:i] + \"_\" + word[i+1:]]:\n",
    "                    if nextWord == endWord:\n",
    "                        res.append(path+[endWord])\n",
    "                        found = True\n",
    "                    if nextWord not in visited:\n",
    "                        localVisited.add(nextWord)\n",
    "                        q.append((nextWord, path+[nextWord]))\n",
    "        visited = visited.union(localVisited)\n",
    "    return res"
   ]
  },
  {
   "cell_type": "code",
   "execution_count": 24,
   "metadata": {},
   "outputs": [
    {
     "data": {
      "text/plain": [
       "[['hit', 'hot', 'dot', 'dog', 'cog'], ['hit', 'hot', 'lot', 'log', 'cog']]"
      ]
     },
     "execution_count": 24,
     "metadata": {},
     "output_type": "execute_result"
    }
   ],
   "source": [
    "beginWord = \"hit\"\n",
    "endWord = \"cog\"\n",
    "wordList = [\"hot\",\"dot\",\"dog\",\"lot\",\"log\",\"cog\"]\n",
    "findLadders(beginWord, endWord, wordList)"
   ]
  },
  {
   "cell_type": "code",
   "execution_count": null,
   "metadata": {},
   "outputs": [],
   "source": []
  }
 ],
 "metadata": {
  "kernelspec": {
   "display_name": "Python 3",
   "language": "python",
   "name": "python3"
  },
  "language_info": {
   "codemirror_mode": {
    "name": "ipython",
    "version": 3
   },
   "file_extension": ".py",
   "mimetype": "text/x-python",
   "name": "python",
   "nbconvert_exporter": "python",
   "pygments_lexer": "ipython3",
   "version": "3.7.6"
  }
 },
 "nbformat": 4,
 "nbformat_minor": 4
}
