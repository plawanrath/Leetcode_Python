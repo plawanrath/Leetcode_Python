{
 "cells": [
  {
   "cell_type": "code",
   "execution_count": 13,
   "metadata": {},
   "outputs": [],
   "source": [
    "from queue import Queue\n",
    "def snakesAndLadders(board):\n",
    "    '''\n",
    "    Suppose we are on a square with number s. We would like to know all final \n",
    "    destinations with number s2 after making one move.\n",
    "    This requires knowing the coordinates get(s2) of square s2. \n",
    "    This is a small puzzle in itself: we know that the row changes every N squares, \n",
    "    and so is only based on quot = (s2-1) / N; also the column is \n",
    "    only based on rem = (s2-1) % N and what row we are on (forwards or backwards.)\n",
    "    '''\n",
    "    # Since its shortest path algorithm, we can use BFS\n",
    "    N = len(board)\n",
    "    dist = {1: 0}\n",
    "    q = Queue()\n",
    "    q.put(1)\n",
    "    while not q.empty():\n",
    "        s = q.get()\n",
    "        if s == N*N:\n",
    "            return dist[s]\n",
    "        for s2 in range(s+1, min(s+6, N*N) + 1):\n",
    "            r, c = getRowColFromNum(s2, N)\n",
    "            if board[r][c] != -1:\n",
    "                s2 = board[r][c]\n",
    "            if s2 not in dist:\n",
    "                dist[s2] = dist[s] + 1\n",
    "                q.put(s2)\n",
    "    return -1\n",
    "\n",
    "def getRowColFromNum(num, N):\n",
    "    quot, rem = divmod(num-1, N)\n",
    "    row = N-1-quot\n",
    "    col = rem if row%2 != N%2 else N - 1 - rem\n",
    "    return row, col"
   ]
  },
  {
   "cell_type": "code",
   "execution_count": 14,
   "metadata": {},
   "outputs": [
    {
     "data": {
      "text/plain": [
       "4"
      ]
     },
     "execution_count": 14,
     "metadata": {},
     "output_type": "execute_result"
    }
   ],
   "source": [
    "board = [[-1,-1,-1,-1,-1,-1],[-1,-1,-1,-1,-1,-1],[-1,-1,-1,-1,-1,-1],[-1,35,-1,-1,13,-1],[-1,-1,-1,-1,-1,-1],[-1,15,-1,-1,-1,-1]]\n",
    "snakesAndLadders(board)"
   ]
  },
  {
   "cell_type": "code",
   "execution_count": 15,
   "metadata": {},
   "outputs": [
    {
     "data": {
      "text/plain": [
       "-1"
      ]
     },
     "execution_count": 15,
     "metadata": {},
     "output_type": "execute_result"
    }
   ],
   "source": [
    "board2 = [[1,1,-1],[1,1,1],[-1,1,1]]\n",
    "snakesAndLadders(board2)"
   ]
  },
  {
   "cell_type": "code",
   "execution_count": null,
   "metadata": {},
   "outputs": [],
   "source": []
  }
 ],
 "metadata": {
  "kernelspec": {
   "display_name": "Python 3",
   "language": "python",
   "name": "python3"
  },
  "language_info": {
   "codemirror_mode": {
    "name": "ipython",
    "version": 3
   },
   "file_extension": ".py",
   "mimetype": "text/x-python",
   "name": "python",
   "nbconvert_exporter": "python",
   "pygments_lexer": "ipython3",
   "version": "3.7.6"
  }
 },
 "nbformat": 4,
 "nbformat_minor": 4
}
