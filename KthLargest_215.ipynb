{
 "cells": [
  {
   "cell_type": "code",
   "execution_count": 2,
   "metadata": {},
   "outputs": [],
   "source": [
    "from queue import PriorityQueue\n",
    "class Solution:\n",
    "    def findKthLargest(self, nums, k):\n",
    "        if not len(nums):\n",
    "            return None\n",
    "        pq = PriorityQueue()\n",
    "        for num in nums:\n",
    "            pq.put(num)\n",
    "            if pq.qsize() > k:\n",
    "                pq.get()\n",
    "        return pq.get()"
   ]
  },
  {
   "cell_type": "code",
   "execution_count": 3,
   "metadata": {},
   "outputs": [
    {
     "data": {
      "text/plain": [
       "5"
      ]
     },
     "execution_count": 3,
     "metadata": {},
     "output_type": "execute_result"
    }
   ],
   "source": [
    "s = Solution()\n",
    "s.findKthLargest([3,2,1,5,6,4], 2)"
   ]
  },
  {
   "cell_type": "code",
   "execution_count": null,
   "metadata": {},
   "outputs": [],
   "source": [
    "def findKthLargest(nums: List[int], k: int) -> int:\n",
    "    def partition(left, right, pivot_index):\n",
    "        pivot = nums[pivot_index]\n",
    "        # 1. move pivot to end\n",
    "        nums[pivot_index], nums[right] = nums[right], nums[pivot_index]  \n",
    "\n",
    "        # 2. move all smaller elements to the left\n",
    "        store_index = left\n",
    "        for i in range(left, right):\n",
    "            if nums[i] < pivot:\n",
    "                nums[store_index], nums[i] = nums[i], nums[store_index]\n",
    "                store_index += 1\n",
    "\n",
    "        # 3. move pivot to its final place\n",
    "        nums[right], nums[store_index] = nums[store_index], nums[right]  \n",
    "\n",
    "        return store_index\n",
    "\n",
    "    def select(left, right, k_smallest):\n",
    "        \"\"\"\n",
    "        Returns the k-th smallest element of list within left..right\n",
    "        \"\"\"\n",
    "        if left == right:       # If the list contains only one element,\n",
    "            return nums[left]   # return that element\n",
    "\n",
    "        # select a random pivot_index between \n",
    "        pivot_index = random.randint(left, right)     \n",
    "\n",
    "        # find the pivot position in a sorted list   \n",
    "        pivot_index = partition(left, right, pivot_index)\n",
    "\n",
    "        # the pivot is in its final sorted position\n",
    "        if k_smallest == pivot_index:\n",
    "             return nums[k_smallest]\n",
    "        # go left\n",
    "        elif k_smallest < pivot_index:\n",
    "            return select(left, pivot_index - 1, k_smallest)\n",
    "        # go right\n",
    "        else:\n",
    "            return select(pivot_index + 1, right, k_smallest)\n",
    "\n",
    "    # kth largest is (n - k)th smallest \n",
    "    return select(0, len(nums) - 1, len(nums) - k)"
   ]
  }
 ],
 "metadata": {
  "kernelspec": {
   "display_name": "Python 3",
   "language": "python",
   "name": "python3"
  },
  "language_info": {
   "codemirror_mode": {
    "name": "ipython",
    "version": 3
   },
   "file_extension": ".py",
   "mimetype": "text/x-python",
   "name": "python",
   "nbconvert_exporter": "python",
   "pygments_lexer": "ipython3",
   "version": "3.7.6"
  }
 },
 "nbformat": 4,
 "nbformat_minor": 4
}
