{
 "cells": [
  {
   "cell_type": "code",
   "execution_count": 1,
   "metadata": {},
   "outputs": [],
   "source": [
    "def kClosest(points, K):\n",
    "    points.sort(key = lambda p: p[0]**2 + p[1]**2)\n",
    "    return points[:k]"
   ]
  },
  {
   "cell_type": "code",
   "execution_count": 5,
   "metadata": {},
   "outputs": [],
   "source": [
    "import random\n",
    "def kClosest_Optimal(points, k):\n",
    "    distance = lambda i: points[i][0]**2 + points[i][1]**2\n",
    "    \n",
    "    def sort(i, j, k):\n",
    "        # partially sorts A[i:j+1] so that the first k elements are the smallest k elements\n",
    "        if i >= j:\n",
    "            return\n",
    "        # Put random element as A[i] - this is the pivot\n",
    "        pivot = random.randint(i, j)\n",
    "        points[i], points[pivot] = points[pivot], points[i]\n",
    "        mid = partition(i, j)\n",
    "        if k < mid - i + 1:\n",
    "            sort(i, mid-1, k)\n",
    "        elif k > mid - i + 1:\n",
    "            sort(mid+1, j, k - (mid-i+1))\n",
    "        \n",
    "    def partition(i, j):\n",
    "        start = i\n",
    "        pivot = distance(i)\n",
    "        i += 1\n",
    "        while True:\n",
    "            while i < j and distance(i) < pivot:\n",
    "                i += 1\n",
    "            while i <= j and distance(j) >= pivot:\n",
    "                j -= 1\n",
    "            if i >= j:\n",
    "                break\n",
    "            points[i], points[j] = points[j], points[i]\n",
    "        points[start], points[j] = points[j], points[start]\n",
    "        return j\n",
    "    \n",
    "    sort(0, len(points)-1, k)\n",
    "    return points[:k]"
   ]
  },
  {
   "cell_type": "code",
   "execution_count": 6,
   "metadata": {},
   "outputs": [
    {
     "data": {
      "text/plain": [
       "[[3, 3], [-2, 4]]"
      ]
     },
     "execution_count": 6,
     "metadata": {},
     "output_type": "execute_result"
    }
   ],
   "source": [
    "points = [[3,3],[5,-1],[-2,4]] \n",
    "K = 2\n",
    "kClosest_Optimal(points, K)"
   ]
  },
  {
   "cell_type": "code",
   "execution_count": null,
   "metadata": {},
   "outputs": [],
   "source": []
  }
 ],
 "metadata": {
  "kernelspec": {
   "display_name": "Python 3",
   "language": "python",
   "name": "python3"
  },
  "language_info": {
   "codemirror_mode": {
    "name": "ipython",
    "version": 3
   },
   "file_extension": ".py",
   "mimetype": "text/x-python",
   "name": "python",
   "nbconvert_exporter": "python",
   "pygments_lexer": "ipython3",
   "version": "3.7.6"
  }
 },
 "nbformat": 4,
 "nbformat_minor": 4
}
