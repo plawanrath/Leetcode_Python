{
 "cells": [
  {
   "cell_type": "code",
   "execution_count": 3,
   "metadata": {},
   "outputs": [],
   "source": [
    "class RandomizedSet:\n",
    "    def __init__(self):\n",
    "        self.keyMap = {}\n",
    "        self.list = []\n",
    "    \n",
    "    def insert(self, val):\n",
    "        if val in self.keyMap:\n",
    "            return False\n",
    "        self.keyMap[val] = len(self.list)\n",
    "        self.list.append(val)\n",
    "        return True\n",
    "    \n",
    "    def remove(self, val):\n",
    "        if val not in self.keyMap:\n",
    "            return False\n",
    "        index = self.keyMap[val]\n",
    "        last_element = self.list[-1]\n",
    "        self.list[index], self.keyMap[last_element] = last_element, index\n",
    "        self.list.pop()\n",
    "        del self.keyMap[val]\n",
    "        return True\n",
    "    \n",
    "    def getRandom(self):\n",
    "        return choice(self.list)"
   ]
  },
  {
   "cell_type": "code",
   "execution_count": null,
   "metadata": {},
   "outputs": [],
   "source": []
  }
 ],
 "metadata": {
  "kernelspec": {
   "display_name": "Python 3",
   "language": "python",
   "name": "python3"
  },
  "language_info": {
   "codemirror_mode": {
    "name": "ipython",
    "version": 3
   },
   "file_extension": ".py",
   "mimetype": "text/x-python",
   "name": "python",
   "nbconvert_exporter": "python",
   "pygments_lexer": "ipython3",
   "version": "3.7.6"
  }
 },
 "nbformat": 4,
 "nbformat_minor": 4
}
