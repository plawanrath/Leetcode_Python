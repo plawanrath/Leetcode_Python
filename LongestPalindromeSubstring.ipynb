{
 "cells": [
  {
   "cell_type": "code",
   "execution_count": 5,
   "metadata": {},
   "outputs": [],
   "source": [
    "def longestPalindrome(s):\n",
    "    if len(s) <= 1:\n",
    "        return s\n",
    "    start = end = 0 # left and right index of max substring in the input string\n",
    "    for index in range(len(s)):\n",
    "        len1 = expandAroundCenter(s, index, index) # case of odd chars in palindrome\n",
    "        len2 = expandAroundCenter(s, index, index+1) # case of even chars in palindrome and since you always need to check odd substring\n",
    "        maxlen = max(len1, len2)\n",
    "        if maxlen > (end - start): # if a new max palindrome is found\n",
    "            start = index - (maxlen-1)//2 # calculate left index from center\n",
    "            end = index + maxlen//2 # calculate right index from center\n",
    "    return s[start:end+1]\n",
    "\n",
    "def expandAroundCenter(s, left, right):\n",
    "    while ((left >= 0) and (right < len(s)) and (s[left] == s[right])):\n",
    "        #  expand from the center to the left and to the right while same chars \n",
    "        left = left - 1\n",
    "        right = right + 1\n",
    "    return right -left - 1 # return the last palindrome indices"
   ]
  },
  {
   "cell_type": "code",
   "execution_count": 6,
   "metadata": {},
   "outputs": [
    {
     "data": {
      "text/plain": [
       "'aba'"
      ]
     },
     "execution_count": 6,
     "metadata": {},
     "output_type": "execute_result"
    }
   ],
   "source": [
    "s = \"babad\"\n",
    "longestPalindrome(s)"
   ]
  },
  {
   "cell_type": "code",
   "execution_count": null,
   "metadata": {},
   "outputs": [],
   "source": []
  }
 ],
 "metadata": {
  "kernelspec": {
   "display_name": "Python 3",
   "language": "python",
   "name": "python3"
  },
  "language_info": {
   "codemirror_mode": {
    "name": "ipython",
    "version": 3
   },
   "file_extension": ".py",
   "mimetype": "text/x-python",
   "name": "python",
   "nbconvert_exporter": "python",
   "pygments_lexer": "ipython3",
   "version": "3.7.6"
  }
 },
 "nbformat": 4,
 "nbformat_minor": 4
}
