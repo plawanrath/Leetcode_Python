{
 "cells": [
  {
   "cell_type": "code",
   "execution_count": 1,
   "metadata": {},
   "outputs": [],
   "source": [
    "class Solution:\n",
    "    \n",
    "    def __init__(self):\n",
    "        self.matrix = []\n",
    "        self.cache = []\n",
    "        self.rows = 0\n",
    "        self.cols = 0\n",
    "        \n",
    "    def neighbors(self, r, c):\n",
    "        for nr, nc in ((r-1, c), (r+1, c), (r, c-1), (r, c+1)):\n",
    "            if 0 <= nr < self.rows and 0 <= nc < self.cols:\n",
    "                yield nr, nc\n",
    "\n",
    "    def longestIncreasingPath(self, matrix):\n",
    "        longest_path = 0\n",
    "        if not matrix:\n",
    "            return 0\n",
    "        self.rows = len(matrix)\n",
    "        self.cols = len(matrix[0])\n",
    "        self.cache = [[None]*self.cols for _ in range(self.rows)]\n",
    "        self.matrix = matrix\n",
    "\n",
    "        for x in range(self.rows):\n",
    "            for y in range(self.cols):\n",
    "                longest_path = max(longest_path, self.dfs(x, y))\n",
    "        return longest_path\n",
    "\n",
    "    def dfs(self, x, y):\n",
    "        if self.cache[x][y]:\n",
    "            return self.cache[x][y]\n",
    "        current_longest_path = 0\n",
    "        for nr, nc in self.neighbors(x, y):\n",
    "            if self.matrix[nr][nc] > self.matrix[x][y]:\n",
    "                current_longest_path = max(current_longest_path, self.dfs(nr, nc))\n",
    "        self.cache[x][y] = current_longest_path + 1\n",
    "        return self.cache[x][y]\n"
   ]
  },
  {
   "cell_type": "code",
   "execution_count": 2,
   "metadata": {},
   "outputs": [
    {
     "data": {
      "text/plain": [
       "4"
      ]
     },
     "execution_count": 2,
     "metadata": {},
     "output_type": "execute_result"
    }
   ],
   "source": [
    "matrix = [[9, 9, 4], [6, 6, 8], [2, 1, 1]]\n",
    "s = Solution()\n",
    "s.longestIncreasingPath(matrix)"
   ]
  },
  {
   "cell_type": "code",
   "execution_count": null,
   "metadata": {},
   "outputs": [],
   "source": []
  }
 ],
 "metadata": {
  "kernelspec": {
   "display_name": "Python 3",
   "language": "python",
   "name": "python3"
  },
  "language_info": {
   "codemirror_mode": {
    "name": "ipython",
    "version": 3
   },
   "file_extension": ".py",
   "mimetype": "text/x-python",
   "name": "python",
   "nbconvert_exporter": "python",
   "pygments_lexer": "ipython3",
   "version": "3.7.6"
  }
 },
 "nbformat": 4,
 "nbformat_minor": 4
}
