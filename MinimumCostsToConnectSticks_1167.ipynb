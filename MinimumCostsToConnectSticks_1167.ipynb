{
 "cells": [
  {
   "cell_type": "code",
   "execution_count": 4,
   "metadata": {},
   "outputs": [],
   "source": [
    "from queue import PriorityQueue\n",
    "def connectSticks(sticks):\n",
    "    if len(sticks) <= 1:\n",
    "        return 0\n",
    "    pq = PriorityQueue()\n",
    "    for stick in sticks:\n",
    "        pq.put(stick)\n",
    "    cost = 0\n",
    "    while pq.qsize() > 2:\n",
    "        min1 = pq.get()\n",
    "        min2 = pq.get()\n",
    "        cost += min1 + min2\n",
    "        pq.put(min1 + min2)\n",
    "    return cost + pq.get() + pq.get()"
   ]
  },
  {
   "cell_type": "code",
   "execution_count": 5,
   "metadata": {},
   "outputs": [
    {
     "data": {
      "text/plain": [
       "30"
      ]
     },
     "execution_count": 5,
     "metadata": {},
     "output_type": "execute_result"
    }
   ],
   "source": [
    "sticks = [1,8,3,5]\n",
    "connectSticks(sticks)"
   ]
  },
  {
   "cell_type": "code",
   "execution_count": null,
   "metadata": {},
   "outputs": [],
   "source": []
  }
 ],
 "metadata": {
  "kernelspec": {
   "display_name": "Python 3",
   "language": "python",
   "name": "python3"
  },
  "language_info": {
   "codemirror_mode": {
    "name": "ipython",
    "version": 3
   },
   "file_extension": ".py",
   "mimetype": "text/x-python",
   "name": "python",
   "nbconvert_exporter": "python",
   "pygments_lexer": "ipython3",
   "version": "3.7.6"
  }
 },
 "nbformat": 4,
 "nbformat_minor": 4
}
