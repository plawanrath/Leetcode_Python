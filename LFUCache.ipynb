{
 "cells": [
  {
   "cell_type": "code",
   "execution_count": 9,
   "metadata": {},
   "outputs": [],
   "source": [
    "# Use one Counter to order the keys by the number of operations.\n",
    "# Use one defaultdict to store the most recent operation index of the key.\n",
    "from collections import Counter\n",
    "from collections import defaultdict\n",
    "class LFUCache:\n",
    "    \n",
    "    def __init__(self, capacity):\n",
    "        self._dict = defaultdict(list)\n",
    "        self._counter = Counter()\n",
    "        self._capacity = capacity\n",
    "        self._no_of_ops = 0 # index of operations (this can keep track of least recently used key)\n",
    "    \n",
    "    def get(self, key):\n",
    "        if key not in self._counter:\n",
    "            return -1\n",
    "        self._no_of_ops += 1\n",
    "        self._counter[key] += 1\n",
    "        self._dict[key][0] = self._no_of_ops\n",
    "        return self._dict[key][1]\n",
    "    \n",
    "    def put(self, key, value):\n",
    "        if self._capacity == 0:\n",
    "            return\n",
    "        self._no_of_ops += 1\n",
    "        if key in self._counter:\n",
    "            self._counter[key] += 1\n",
    "            self._dict[key] = [self._no_of_ops, value]\n",
    "            return\n",
    "        elif len(self._counter) == self._capacity:\n",
    "            idx = len(self._counter) - 1\n",
    "            most_common_list = self._counter.most_common()\n",
    "            op_idx = self._dict[most_common_list[idx][0]][0]\n",
    "            to_del = most_common_list[idx][0] # gets the key to be deleted\n",
    "            while idx > 0 and most_common_list[idx][1] == most_common_list[idx - 1][1]: # if there is a tie\n",
    "                idx -= 1\n",
    "                if self._dict[most_common_list[idx][0]][0] < op_idx: # delete the one with the least no of operations\n",
    "                    op_idx = self._dict[most_common_list[idx][0]][0]\n",
    "                    to_del = most_common_list[idx][0]\n",
    "            self._counter.pop(to_del)\n",
    "            self._dict.pop(to_del)\n",
    "            \n",
    "        self._counter[key] += 1\n",
    "        self._dict[key] = [self._no_of_ops, value]"
   ]
  },
  {
   "cell_type": "code",
   "execution_count": 10,
   "metadata": {},
   "outputs": [],
   "source": [
    "cache = LFUCache(2)"
   ]
  },
  {
   "cell_type": "code",
   "execution_count": 12,
   "metadata": {},
   "outputs": [
    {
     "data": {
      "text/plain": [
       "1"
      ]
     },
     "execution_count": 12,
     "metadata": {},
     "output_type": "execute_result"
    }
   ],
   "source": [
    "cache.put(1, 1)\n",
    "cache.put(2, 2)\n",
    "cache.get(1)"
   ]
  },
  {
   "cell_type": "code",
   "execution_count": 15,
   "metadata": {},
   "outputs": [
    {
     "data": {
      "text/plain": [
       "-1"
      ]
     },
     "execution_count": 15,
     "metadata": {},
     "output_type": "execute_result"
    }
   ],
   "source": [
    "cache.put(3, 3)\n",
    "cache.get(2)"
   ]
  },
  {
   "cell_type": "code",
   "execution_count": 16,
   "metadata": {},
   "outputs": [
    {
     "data": {
      "text/plain": [
       "3"
      ]
     },
     "execution_count": 16,
     "metadata": {},
     "output_type": "execute_result"
    }
   ],
   "source": [
    "cache.get(3)"
   ]
  },
  {
   "cell_type": "code",
   "execution_count": 17,
   "metadata": {},
   "outputs": [
    {
     "data": {
      "text/plain": [
       "-1"
      ]
     },
     "execution_count": 17,
     "metadata": {},
     "output_type": "execute_result"
    }
   ],
   "source": [
    "cache.put(4, 4)\n",
    "cache.get(1)"
   ]
  },
  {
   "cell_type": "code",
   "execution_count": 18,
   "metadata": {},
   "outputs": [
    {
     "data": {
      "text/plain": [
       "3"
      ]
     },
     "execution_count": 18,
     "metadata": {},
     "output_type": "execute_result"
    }
   ],
   "source": [
    "cache.get(3)"
   ]
  },
  {
   "cell_type": "code",
   "execution_count": 19,
   "metadata": {},
   "outputs": [
    {
     "data": {
      "text/plain": [
       "4"
      ]
     },
     "execution_count": 19,
     "metadata": {},
     "output_type": "execute_result"
    }
   ],
   "source": [
    "cache.get(4)"
   ]
  },
  {
   "cell_type": "code",
   "execution_count": null,
   "metadata": {},
   "outputs": [],
   "source": []
  }
 ],
 "metadata": {
  "kernelspec": {
   "display_name": "Python 3",
   "language": "python",
   "name": "python3"
  },
  "language_info": {
   "codemirror_mode": {
    "name": "ipython",
    "version": 3
   },
   "file_extension": ".py",
   "mimetype": "text/x-python",
   "name": "python",
   "nbconvert_exporter": "python",
   "pygments_lexer": "ipython3",
   "version": "3.7.6"
  }
 },
 "nbformat": 4,
 "nbformat_minor": 4
}
