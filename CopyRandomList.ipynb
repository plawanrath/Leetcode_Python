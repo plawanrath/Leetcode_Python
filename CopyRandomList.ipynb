{
 "cells": [
  {
   "cell_type": "code",
   "execution_count": 1,
   "metadata": {},
   "outputs": [],
   "source": [
    "class Node:\n",
    "    \n",
    "    def __init__(self, val, nextNode, random):\n",
    "        self.val = val\n",
    "        self.next = nextNode\n",
    "        self.random = random"
   ]
  },
  {
   "cell_type": "code",
   "execution_count": 2,
   "metadata": {},
   "outputs": [],
   "source": [
    "visited = {}\n",
    "def copyRandomList(head):\n",
    "    if head == None:\n",
    "        return None\n",
    "    if head in visited:\n",
    "        return visited[head]\n",
    "    node = Node(head.val, None, None)\n",
    "    visited[head] = node\n",
    "    node.next = copyRandomList(head.next)\n",
    "    node.random = copyRandomList(head.random)\n",
    "    return node"
   ]
  },
  {
   "cell_type": "code",
   "execution_count": 3,
   "metadata": {},
   "outputs": [],
   "source": [
    "node1 = Node(1, None, None)\n",
    "node2 = Node(2, None, None)\n",
    "node3 = Node(3, None, None)\n",
    "node4 = Node(4, None, None)\n",
    "node5 = Node(5, None, None)\n",
    "node1.next = node2\n",
    "node1.random = node5\n",
    "node2.next = node3\n",
    "node2.random = node4\n",
    "node3.next = node4\n",
    "node3.random = node1\n",
    "node4.next = node5\n",
    "node4.random = node2\n",
    "node5.random = node3"
   ]
  },
  {
   "cell_type": "code",
   "execution_count": 4,
   "metadata": {},
   "outputs": [],
   "source": [
    "res = copyRandomList(node1)"
   ]
  },
  {
   "cell_type": "code",
   "execution_count": 5,
   "metadata": {},
   "outputs": [
    {
     "data": {
      "text/plain": [
       "1"
      ]
     },
     "execution_count": 5,
     "metadata": {},
     "output_type": "execute_result"
    }
   ],
   "source": [
    "res.val"
   ]
  },
  {
   "cell_type": "code",
   "execution_count": 6,
   "metadata": {},
   "outputs": [
    {
     "data": {
      "text/plain": [
       "5"
      ]
     },
     "execution_count": 6,
     "metadata": {},
     "output_type": "execute_result"
    }
   ],
   "source": [
    "res.random.val"
   ]
  },
  {
   "cell_type": "code",
   "execution_count": null,
   "metadata": {},
   "outputs": [],
   "source": []
  }
 ],
 "metadata": {
  "kernelspec": {
   "display_name": "Python 3",
   "language": "python",
   "name": "python3"
  },
  "language_info": {
   "codemirror_mode": {
    "name": "ipython",
    "version": 3
   },
   "file_extension": ".py",
   "mimetype": "text/x-python",
   "name": "python",
   "nbconvert_exporter": "python",
   "pygments_lexer": "ipython3",
   "version": "3.7.6"
  }
 },
 "nbformat": 4,
 "nbformat_minor": 4
}
