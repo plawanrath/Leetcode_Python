{
 "cells": [
  {
   "cell_type": "code",
   "execution_count": 22,
   "metadata": {},
   "outputs": [],
   "source": [
    "def anagram(s1, s2):\n",
    "    s1 = s1.lower().replace(\" \", \"\")\n",
    "    s2 = s2.lower().replace(\" \", \"\")\n",
    "    if len(s1) != len(s2):\n",
    "        return False\n",
    "    dict = {}\n",
    "    for c in s1:\n",
    "        if c not in dict:\n",
    "            dict[c] = 1\n",
    "        else:\n",
    "            dict[c] += 1\n",
    "    for c in s2:\n",
    "        if c not in dict or dict[c] < 1:\n",
    "            return False\n",
    "        dict[c] -= 1\n",
    "    return True\n",
    "\n",
    "def anagram_sorted(s1, s2):\n",
    "    s1 = s1.replace(\" \", \"\").lower()\n",
    "    s2 = s2.replace(\" \", \"\").lower()\n",
    "    return sorted(s1) == sorted(s2)"
   ]
  },
  {
   "cell_type": "code",
   "execution_count": 23,
   "metadata": {},
   "outputs": [
    {
     "data": {
      "text/plain": [
       "True"
      ]
     },
     "execution_count": 23,
     "metadata": {},
     "output_type": "execute_result"
    }
   ],
   "source": [
    "anagram('dog', 'god')"
   ]
  },
  {
   "cell_type": "code",
   "execution_count": 24,
   "metadata": {},
   "outputs": [
    {
     "name": "stdout",
     "output_type": "stream",
     "text": [
      "All Test Cases Passed\n"
     ]
    }
   ],
   "source": [
    "from nose.tools import assert_equal\n",
    "\n",
    "class AnagramTest(object):\n",
    "    def test(self, func):\n",
    "        assert_equal(func(\"dog\", \"god\"), True)\n",
    "        assert_equal(func(\"abc\", \"cab\"), True)\n",
    "        assert_equal(func(\"dogs\", \"god\"), False)\n",
    "        assert_equal(func(\"1 2 3\", \"123\"), True)\n",
    "        assert_equal(func(\"1 2\", \"123\"), False)\n",
    "        print(\"All Test Cases Passed\")\n",
    "\n",
    "t = AnagramTest()\n",
    "t.test(anagram)"
   ]
  },
  {
   "cell_type": "code",
   "execution_count": null,
   "metadata": {},
   "outputs": [],
   "source": []
  }
 ],
 "metadata": {
  "kernelspec": {
   "display_name": "Python 3",
   "language": "python",
   "name": "python3"
  },
  "language_info": {
   "codemirror_mode": {
    "name": "ipython",
    "version": 3
   },
   "file_extension": ".py",
   "mimetype": "text/x-python",
   "name": "python",
   "nbconvert_exporter": "python",
   "pygments_lexer": "ipython3",
   "version": "3.7.6"
  }
 },
 "nbformat": 4,
 "nbformat_minor": 4
}
