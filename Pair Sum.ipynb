{
 "cells": [
  {
   "cell_type": "markdown",
   "metadata": {},
   "source": [
    "## Given an array and a value k, return number of unique pairs that sum upto k"
   ]
  },
  {
   "cell_type": "code",
   "execution_count": 68,
   "metadata": {},
   "outputs": [],
   "source": [
    "def pair_sum(arr, k): # Bad design\n",
    "    hashset = set()\n",
    "    res = []\n",
    "    for item in arr:\n",
    "        hashset.add(item)\n",
    "    for item in arr:\n",
    "        if (k - item) in hashset:\n",
    "            res.append((item, k-item))\n",
    "            if item in hashset:\n",
    "                hashset.remove(item) \n",
    "            if (k-item) in hashset:\n",
    "                hashset.remove(k-item) \n",
    "    # Returning number of unique pairs\n",
    "    return len(res)"
   ]
  },
  {
   "cell_type": "code",
   "execution_count": 69,
   "metadata": {},
   "outputs": [],
   "source": [
    "def pair_sum2(arr, k): # Cleaner design\n",
    "    if len(arr) < 2:\n",
    "        return None\n",
    "    seen = set()\n",
    "    output = set()\n",
    "    for num in arr:\n",
    "        target = k - num\n",
    "        if target not in seen:\n",
    "            seen.add(num)\n",
    "        else:\n",
    "            output.add((min(num, target), max(num, target)))\n",
    "#     print(\"\\n\".join(map(str, list(output))))\n",
    "    return len(output)"
   ]
  },
  {
   "cell_type": "code",
   "execution_count": 70,
   "metadata": {},
   "outputs": [
    {
     "name": "stdout",
     "output_type": "stream",
     "text": [
      "(1, 3)\n",
      "(2, 2)\n"
     ]
    },
    {
     "data": {
      "text/plain": [
       "2"
      ]
     },
     "execution_count": 70,
     "metadata": {},
     "output_type": "execute_result"
    }
   ],
   "source": [
    "pair_sum2([1,3,2,2], 4)"
   ]
  },
  {
   "cell_type": "code",
   "execution_count": 71,
   "metadata": {},
   "outputs": [
    {
     "name": "stdout",
     "output_type": "stream",
     "text": [
      "All Testcases passed\n",
      "(1, 3)\n",
      "(2, 2)\n",
      "(-2, 2)\n",
      "All Testcases passed\n"
     ]
    }
   ],
   "source": [
    "from nose.tools import assert_equal\n",
    "\n",
    "class PairSumTest(object):\n",
    "    def test(self, func):\n",
    "        assert_equal(func([1, 3, 2, 2], 4), 2)\n",
    "        assert_equal(func([1, 3, 2, 2, -2], 0), 1)\n",
    "        print (\"All Testcases passed\")\n",
    "\n",
    "p = PairSumTest()\n",
    "p.test(pair_sum)\n",
    "p.test(pair_sum2)"
   ]
  },
  {
   "cell_type": "code",
   "execution_count": null,
   "metadata": {},
   "outputs": [],
   "source": []
  }
 ],
 "metadata": {
  "kernelspec": {
   "display_name": "Python 3",
   "language": "python",
   "name": "python3"
  },
  "language_info": {
   "codemirror_mode": {
    "name": "ipython",
    "version": 3
   },
   "file_extension": ".py",
   "mimetype": "text/x-python",
   "name": "python",
   "nbconvert_exporter": "python",
   "pygments_lexer": "ipython3",
   "version": "3.7.6"
  }
 },
 "nbformat": 4,
 "nbformat_minor": 4
}
