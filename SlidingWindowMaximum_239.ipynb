{
 "cells": [
  {
   "cell_type": "code",
   "execution_count": 72,
   "metadata": {},
   "outputs": [],
   "source": [
    "from collections import deque \n",
    "def maxSlidingWindow(nums, k):\n",
    "    queue = deque([])\n",
    "    output = list()\n",
    "\n",
    "    for index, val in enumerate(nums):\n",
    "\n",
    "        # remove all entries from left which are smaller than upcoming element\n",
    "        while len(queue)>0 and val>queue[0][1]:\n",
    "            queue.popleft()\n",
    "\n",
    "        # remove all entries from right which are out of our window of size k\n",
    "        while len(queue)>0 and queue[-1][0]<index-k+1:\n",
    "            queue.pop()\n",
    "\n",
    "        # append the q_object which is a tuple of index and value\n",
    "        queue.appendleft((index, val))\n",
    "\n",
    "        # only start appending in output array when current index is greater than equal to window size\n",
    "        if index>=k-1:\n",
    "            output.append(queue[-1][1])\n",
    "\n",
    "    return output"
   ]
  },
  {
   "cell_type": "code",
   "execution_count": 73,
   "metadata": {},
   "outputs": [
    {
     "data": {
      "text/plain": [
       "[3, 3, 5, 5, 6, 7]"
      ]
     },
     "execution_count": 73,
     "metadata": {},
     "output_type": "execute_result"
    }
   ],
   "source": [
    "nums = [1,3,-1,-3,5,3,6,7]\n",
    "k = 3\n",
    "maxSlidingWindow(nums, k)"
   ]
  },
  {
   "cell_type": "code",
   "execution_count": 74,
   "metadata": {},
   "outputs": [
    {
     "data": {
      "text/plain": [
       "[1]"
      ]
     },
     "execution_count": 74,
     "metadata": {},
     "output_type": "execute_result"
    }
   ],
   "source": [
    "nums2 = [1]\n",
    "k = 1\n",
    "maxSlidingWindow(nums2, k)"
   ]
  },
  {
   "cell_type": "code",
   "execution_count": 75,
   "metadata": {},
   "outputs": [
    {
     "data": {
      "text/plain": [
       "[1, -1]"
      ]
     },
     "execution_count": 75,
     "metadata": {},
     "output_type": "execute_result"
    }
   ],
   "source": [
    "nums3 = [1, -1]\n",
    "k = 1\n",
    "maxSlidingWindow(nums3, k)"
   ]
  },
  {
   "cell_type": "code",
   "execution_count": 76,
   "metadata": {},
   "outputs": [
    {
     "data": {
      "text/plain": [
       "[10, 10, 9, 2]"
      ]
     },
     "execution_count": 76,
     "metadata": {},
     "output_type": "execute_result"
    }
   ],
   "source": [
    "nums4 = [9,10,9,-7,-4,-8,2,-6]\n",
    "k = 5\n",
    "maxSlidingWindow(nums4, k)"
   ]
  },
  {
   "cell_type": "code",
   "execution_count": null,
   "metadata": {},
   "outputs": [],
   "source": []
  }
 ],
 "metadata": {
  "kernelspec": {
   "display_name": "Python 3",
   "language": "python",
   "name": "python3"
  },
  "language_info": {
   "codemirror_mode": {
    "name": "ipython",
    "version": 3
   },
   "file_extension": ".py",
   "mimetype": "text/x-python",
   "name": "python",
   "nbconvert_exporter": "python",
   "pygments_lexer": "ipython3",
   "version": "3.7.6"
  }
 },
 "nbformat": 4,
 "nbformat_minor": 4
}
