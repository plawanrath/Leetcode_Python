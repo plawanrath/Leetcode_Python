{
 "cells": [
  {
   "cell_type": "markdown",
   "metadata": {},
   "source": [
    "## Find the missing element given 2 arrays"
   ]
  },
  {
   "cell_type": "code",
   "execution_count": 4,
   "metadata": {},
   "outputs": [],
   "source": [
    "def finder(arr1, arr2):\n",
    "    # If array has elements > 1\n",
    "    return abs(sum(arr1)-sum(arr2))"
   ]
  },
  {
   "cell_type": "code",
   "execution_count": 7,
   "metadata": {},
   "outputs": [],
   "source": [
    "# Sum approaches are not good if the numbers are too large or the array is too large.\n",
    "# There can be overflow issues.\n",
    "def finder2(arr1, arr2):\n",
    "    if len(arr1) > len(arr2):\n",
    "        return finder_helper(arr1, arr2)\n",
    "    return finder_helper(arr2, arr1)\n",
    "\n",
    "def finder_helper(larger, smaller):\n",
    "    arr_sum = sum(larger)\n",
    "    for item in smaller:\n",
    "        arr_sum -= item\n",
    "    return arr_sum"
   ]
  },
  {
   "cell_type": "code",
   "execution_count": 10,
   "metadata": {},
   "outputs": [],
   "source": [
    "# O(nlogn) solution and arr1 is always the larger array\n",
    "def finder3(arr1, arr2):\n",
    "    arr1.sort()\n",
    "    arr2.sort()\n",
    "    \n",
    "    for num1, num2 in zip(arr1, arr2):\n",
    "        if num1 != num2:\n",
    "            return num1\n",
    "    return arr1[-1] "
   ]
  },
  {
   "cell_type": "code",
   "execution_count": 11,
   "metadata": {},
   "outputs": [],
   "source": [
    "from collections import defaultdict\n",
    "def finder4(arr1, arr2):\n",
    "    dict = defaultdict(int)\n",
    "    \n",
    "    for item in arr2:\n",
    "        dict[item] += 1\n",
    "    for item in arr1:\n",
    "        if dict[item] == 0:\n",
    "            return item\n",
    "        else:\n",
    "            dict[item] -= 1"
   ]
  },
  {
   "cell_type": "code",
   "execution_count": 21,
   "metadata": {},
   "outputs": [],
   "source": [
    "def finder_xor(arr1, arr2):\n",
    "    result = 0\n",
    "    for item in arr1+arr2:\n",
    "        result ^= item\n",
    "    return result"
   ]
  },
  {
   "cell_type": "code",
   "execution_count": 22,
   "metadata": {},
   "outputs": [
    {
     "name": "stdout",
     "output_type": "stream",
     "text": [
      "All Testcases passed\n"
     ]
    }
   ],
   "source": [
    "from nose.tools import assert_equal\n",
    "\n",
    "class FinderTest(object):\n",
    "    def test(self, func):\n",
    "        assert_equal(func([1, 2, 3, 4, 5, 6, 7], [3, 7, 2, 1, 4, 6]), 5)\n",
    "        assert_equal(func([5, 5, 7, 7], [5, 7, 7]), 5)  \n",
    "        assert_equal(func([5, 5, 5], [5, 5]), 5)\n",
    "        assert_equal(func([0, 0, 0], [0, 0]), 0)\n",
    "        print (\"All Testcases passed\")\n",
    "\n",
    "f = FinderTest()\n",
    "# f.test(finder)\n",
    "# f.test(finder2)\n",
    "# f.test(finder3)\n",
    "# f.test(finder4)\n",
    "f.test(finder_xor)"
   ]
  },
  {
   "cell_type": "code",
   "execution_count": null,
   "metadata": {},
   "outputs": [],
   "source": []
  }
 ],
 "metadata": {
  "kernelspec": {
   "display_name": "Python 3",
   "language": "python",
   "name": "python3"
  },
  "language_info": {
   "codemirror_mode": {
    "name": "ipython",
    "version": 3
   },
   "file_extension": ".py",
   "mimetype": "text/x-python",
   "name": "python",
   "nbconvert_exporter": "python",
   "pygments_lexer": "ipython3",
   "version": "3.7.6"
  }
 },
 "nbformat": 4,
 "nbformat_minor": 4
}
