{
 "cells": [
  {
   "cell_type": "code",
   "execution_count": 74,
   "metadata": {},
   "outputs": [],
   "source": [
    "from collections import defaultdict\n",
    "class Sudoku:\n",
    "    def __init__(self, board, box_size):\n",
    "        self.board = board\n",
    "        self.box_size = box_size\n",
    "        self.row_size = box_size * box_size\n",
    "        # lambda function that will find the box index given row, col\n",
    "        self.box_index = lambda row, col: (row // box_size) * box_size + col // box_size\n",
    "        self.rows = [defaultdict(int) for i in range(self.row_size)]\n",
    "        self.cols = [defaultdict(int) for i in range(self.row_size)]\n",
    "        self.boxes = [defaultdict(int) for i in range(self.row_size)]\n",
    "        self.sudoku_solved = False\n",
    "    \n",
    "    def could_place(self, num, row, col):\n",
    "        return not(num in self.rows[row] or num in self.cols[col] \n",
    "                   or num in self.boxes[self.box_index(row, col)])\n",
    "    \n",
    "    def place_number(self, num, row, col):\n",
    "        self.rows[row][num] += 1\n",
    "        self.cols[col][num] += 1\n",
    "        index = self.box_index(row, col)\n",
    "        self.boxes[index][num] += 1\n",
    "        self.board[row][col] = str(num)\n",
    "    \n",
    "    def remove_number(self, num, row, col):\n",
    "        del self.rows[row][num]\n",
    "        del self.cols[col][num]\n",
    "        del self.boxes[self.box_index(row, col)][num]\n",
    "        self.board[row][col] = '.'\n",
    "    \n",
    "    def place_next_numbers(self, row, col):\n",
    "        # if we are in the alst cell, we havee the solution\n",
    "        if col == self.row_size - 1 and row == self.row_size - 1:\n",
    "            self.sudoku_solved = True\n",
    "        else:\n",
    "            # if end of the row, go to next row\n",
    "            if col == self.row_size - 1:\n",
    "                self.backtrack(row+1, 0)\n",
    "            else:\n",
    "                self.backtrack(row, col+1)\n",
    "    \n",
    "    def backtrack(self, row=0, col=0):\n",
    "        if self.board[row][col] == '.':\n",
    "            for num in range(1,10):\n",
    "                if self.could_place(num, row, col):\n",
    "                    self.place_number(num, row, col)\n",
    "                    self.place_next_numbers(row, col)\n",
    "                    if not self.sudoku_solved:\n",
    "                        self.remove_number(num, row, col)\n",
    "        else:\n",
    "            self.place_next_numbers(row, col)\n",
    "    \n",
    "    def solveSudoku(self):\n",
    "        for i in range(self.row_size):\n",
    "            for j in range(self.row_size):\n",
    "                if self.board[i][j] != '.':\n",
    "                    num = int(self.board[i][j])\n",
    "                    self.place_number(num, i, j)\n",
    "        \n",
    "        self.backtrack()"
   ]
  },
  {
   "cell_type": "code",
   "execution_count": 75,
   "metadata": {},
   "outputs": [],
   "source": [
    "board = [[\"5\",\"3\",\".\",\".\",\"7\",\".\",\".\",\".\",\".\"],[\"6\",\".\",\".\",\"1\",\"9\",\"5\",\".\",\".\",\".\"],[\".\",\"9\",\"8\",\".\",\".\",\".\",\".\",\"6\",\".\"],[\"8\",\".\",\".\",\".\",\"6\",\".\",\".\",\".\",\"3\"],[\"4\",\".\",\".\",\"8\",\".\",\"3\",\".\",\".\",\"1\"],[\"7\",\".\",\".\",\".\",\"2\",\".\",\".\",\".\",\"6\"],[\".\",\"6\",\".\",\".\",\".\",\".\",\"2\",\"8\",\".\"],[\".\",\".\",\".\",\"4\",\"1\",\"9\",\".\",\".\",\"5\"],[\".\",\".\",\".\",\".\",\"8\",\".\",\".\",\"7\",\"9\"]]\n",
    "s = Sudoku(board, 3)\n",
    "s.solveSudoku()"
   ]
  },
  {
   "cell_type": "code",
   "execution_count": 76,
   "metadata": {},
   "outputs": [
    {
     "data": {
      "text/plain": [
       "[['5', '3', '4', '6', '7', '8', '9', '1', '2'],\n",
       " ['6', '7', '2', '1', '9', '5', '3', '4', '8'],\n",
       " ['1', '9', '8', '3', '4', '2', '5', '6', '7'],\n",
       " ['8', '5', '9', '7', '6', '1', '4', '2', '3'],\n",
       " ['4', '2', '6', '8', '5', '3', '7', '9', '1'],\n",
       " ['7', '1', '3', '9', '2', '4', '8', '5', '6'],\n",
       " ['9', '6', '1', '5', '3', '7', '2', '8', '4'],\n",
       " ['2', '8', '7', '4', '1', '9', '6', '3', '5'],\n",
       " ['3', '4', '5', '2', '8', '6', '1', '7', '9']]"
      ]
     },
     "execution_count": 76,
     "metadata": {},
     "output_type": "execute_result"
    }
   ],
   "source": [
    "s.board"
   ]
  },
  {
   "cell_type": "code",
   "execution_count": null,
   "metadata": {},
   "outputs": [],
   "source": []
  }
 ],
 "metadata": {
  "kernelspec": {
   "display_name": "Python 3",
   "language": "python",
   "name": "python3"
  },
  "language_info": {
   "codemirror_mode": {
    "name": "ipython",
    "version": 3
   },
   "file_extension": ".py",
   "mimetype": "text/x-python",
   "name": "python",
   "nbconvert_exporter": "python",
   "pygments_lexer": "ipython3",
   "version": "3.7.6"
  }
 },
 "nbformat": 4,
 "nbformat_minor": 4
}
