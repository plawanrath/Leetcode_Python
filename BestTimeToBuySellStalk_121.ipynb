{
 "cells": [
  {
   "cell_type": "code",
   "execution_count": 1,
   "metadata": {},
   "outputs": [],
   "source": [
    "def maxProfit(prices):\n",
    "    maxprofit = 0\n",
    "    for i in range(len(prices)):\n",
    "        for j in range(i+1, len(prices)):\n",
    "            profit = prices[j] - prices[i]\n",
    "            maxprofit = max(profit, maxprofit)\n",
    "    return maxprofit"
   ]
  },
  {
   "cell_type": "code",
   "execution_count": 2,
   "metadata": {},
   "outputs": [],
   "source": [
    "def maxProfit_Optimal(prices):\n",
    "    # We only care about peaks and valleys, so find the largest peak that follows\n",
    "    # the smallest valley\n",
    "    minprice = float('inf')\n",
    "    maxprofit = 0\n",
    "    for i in range(len(prices)):\n",
    "        if prices[i] < minprice:\n",
    "            minprice = min(prices[i], minprice)\n",
    "        else:\n",
    "            maxprofit = max(maxprofit, prices[i] - minprice)\n",
    "    return maxprofit"
   ]
  },
  {
   "cell_type": "code",
   "execution_count": 3,
   "metadata": {},
   "outputs": [
    {
     "data": {
      "text/plain": [
       "5"
      ]
     },
     "execution_count": 3,
     "metadata": {},
     "output_type": "execute_result"
    }
   ],
   "source": [
    "input = [7,1,5,3,6,4]\n",
    "maxProfit_Optimal(input)"
   ]
  },
  {
   "cell_type": "code",
   "execution_count": null,
   "metadata": {},
   "outputs": [],
   "source": []
  }
 ],
 "metadata": {
  "kernelspec": {
   "display_name": "Python 3",
   "language": "python",
   "name": "python3"
  },
  "language_info": {
   "codemirror_mode": {
    "name": "ipython",
    "version": 3
   },
   "file_extension": ".py",
   "mimetype": "text/x-python",
   "name": "python",
   "nbconvert_exporter": "python",
   "pygments_lexer": "ipython3",
   "version": "3.7.6"
  }
 },
 "nbformat": 4,
 "nbformat_minor": 4
}
