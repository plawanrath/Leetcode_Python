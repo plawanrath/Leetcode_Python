{
 "cells": [
  {
   "cell_type": "code",
   "execution_count": 11,
   "metadata": {},
   "outputs": [],
   "source": [
    "# Every turn, the rotting spreads from each rotting orange to other adjacent oranges. \n",
    "# Initially, the rotten oranges have 'depth' 0 [as in the spanning tree of a graph], \n",
    "# and every time they rot a neighbor, the neighbors have 1 more depth. We want to know the largest possible depth.\n",
    "from collections import deque\n",
    "def orangeRotting(grid):\n",
    "    queue = deque()\n",
    "    for r, row in enumerate(grid):\n",
    "        for c, val in enumerate(row):\n",
    "            if val == 2:\n",
    "                queue.append((r, c, 0))\n",
    "    \n",
    "    def neighbors(r, c):\n",
    "        for nr, nc in ((r-1,c),(r,c-1),(r+1,c),(r,c+1)):\n",
    "            if 0 <= nr < len(grid) and 0 <= nc < len(grid[0]):\n",
    "                yield nr, nc\n",
    "    \n",
    "    depth = 0\n",
    "    while queue:\n",
    "        r, c, depth = queue.popleft()\n",
    "        for nr, nc in neighbors(r, c):\n",
    "            if grid[nr][nc] == 1:\n",
    "                grid[nr][nc] = 2\n",
    "                queue.append((nr, nc, depth+1))\n",
    "                \n",
    "    if any(1 in row for row in grid):\n",
    "        return -1\n",
    "    return depth"
   ]
  },
  {
   "cell_type": "code",
   "execution_count": 12,
   "metadata": {},
   "outputs": [
    {
     "data": {
      "text/plain": [
       "4"
      ]
     },
     "execution_count": 12,
     "metadata": {},
     "output_type": "execute_result"
    }
   ],
   "source": [
    "input = [[2,1,1],[1,1,0],[0,1,1]]\n",
    "orangeRotting(input)"
   ]
  },
  {
   "cell_type": "code",
   "execution_count": null,
   "metadata": {},
   "outputs": [],
   "source": []
  }
 ],
 "metadata": {
  "kernelspec": {
   "display_name": "Python 3",
   "language": "python",
   "name": "python3"
  },
  "language_info": {
   "codemirror_mode": {
    "name": "ipython",
    "version": 3
   },
   "file_extension": ".py",
   "mimetype": "text/x-python",
   "name": "python",
   "nbconvert_exporter": "python",
   "pygments_lexer": "ipython3",
   "version": "3.7.6"
  }
 },
 "nbformat": 4,
 "nbformat_minor": 4
}
