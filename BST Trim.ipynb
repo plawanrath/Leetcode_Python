{
 "cells": [
  {
   "cell_type": "markdown",
   "metadata": {},
   "source": [
    "### Given the root of a BST and 2 numbers min and max trim the tree such that all the numbers in the new tree are between min and max inclusive. "
   ]
  },
  {
   "cell_type": "code",
   "execution_count": null,
   "metadata": {},
   "outputs": [],
   "source": [
    "def trimBST(tree, minVal, maxVal):\n",
    "    if not tree:\n",
    "        return\n",
    "    \n",
    "    tree.left = trimBST(tree.left, minVal, maxVal)\n",
    "    tree.right = trimBST(tree.right, minVal, maxVal)\n",
    "    \n",
    "    if minVal <= tree.val <= maxVal:\n",
    "        return tree\n",
    "    \n",
    "    if tree.val < minVal:\n",
    "        return tree.right\n",
    "    \n",
    "    if tree.val > maxVal:\n",
    "        return tree.left"
   ]
  }
 ],
 "metadata": {
  "kernelspec": {
   "display_name": "Python 3",
   "language": "python",
   "name": "python3"
  },
  "language_info": {
   "codemirror_mode": {
    "name": "ipython",
    "version": 3
   },
   "file_extension": ".py",
   "mimetype": "text/x-python",
   "name": "python",
   "nbconvert_exporter": "python",
   "pygments_lexer": "ipython3",
   "version": "3.7.6"
  }
 },
 "nbformat": 4,
 "nbformat_minor": 4
}
