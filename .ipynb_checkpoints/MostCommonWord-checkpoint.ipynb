{
 "cells": [
  {
   "cell_type": "code",
   "execution_count": 23,
   "metadata": {},
   "outputs": [],
   "source": [
    "from collections import OrderedDict # ordered dict remembers the order in which the values were entered\n",
    "from collections import defaultdict\n",
    "from typing import List\n",
    "def mostCommonWord(paragraph: str, banned: List[str]) -> str:\n",
    "    paragraph = paragraph.lower()\n",
    "    worddict = defaultdict(int)\n",
    "    \n",
    "    if not paragraph:\n",
    "        return None\n",
    "    formatted_paragraph = \"\".join((char if char.isalpha() else \" \") for char in paragraph).split()\n",
    "    banned_set = set(banned)\n",
    "    for word in formatted_paragraph:\n",
    "        if word not in banned_set:\n",
    "            worddict[word] += 1\n",
    "    worddict = OrderedDict(sorted(worddict.items(), key=lambda t: t[1], reverse = True))\n",
    "    return list(worddict.keys())[0]"
   ]
  },
  {
   "cell_type": "code",
   "execution_count": 24,
   "metadata": {},
   "outputs": [
    {
     "data": {
      "text/plain": [
       "'ball'"
      ]
     },
     "execution_count": 24,
     "metadata": {},
     "output_type": "execute_result"
    }
   ],
   "source": [
    "paragraph = \"Bob hit a ball, the hit BALL flew far after it was hit.\"\n",
    "banned = [\"hit\"]\n",
    "mostCommonWord(paragraph, banned)"
   ]
  },
  {
   "cell_type": "code",
   "execution_count": 28,
   "metadata": {},
   "outputs": [],
   "source": [
    "import heapq\n",
    "def mostCommonWord_heap(paragraph, banned):\n",
    "    paragraph = paragraph.lower()\n",
    "    paragraph = \"\".join((char if char.isalpha() else \" \") for char in paragraph).split()\n",
    "    banned_set = set(banned)\n",
    "    wordDict = {}\n",
    "    if not paragraph:\n",
    "        return None\n",
    "    for word in paragraph:\n",
    "        if word not in wordDict:\n",
    "            wordDict[word] = 1\n",
    "        else:\n",
    "            wordDict[word] += 1\n",
    "    countdict = {k:v for k,v in wordDict.items() if k not in banned_set}\n",
    "    count_max_heap = heapq._heapify_max(list(countdict.keys()))\n",
    "    return heapq._heappop_max(count_max_heap) "
   ]
  },
  {
   "cell_type": "markdown",
   "metadata": {},
   "source": []
  },
  {
   "cell_type": "code",
   "execution_count": null,
   "metadata": {},
   "outputs": [],
   "source": []
  }
 ],
 "metadata": {
  "kernelspec": {
   "display_name": "Python 3",
   "language": "python",
   "name": "python3"
  },
  "language_info": {
   "codemirror_mode": {
    "name": "ipython",
    "version": 3
   },
   "file_extension": ".py",
   "mimetype": "text/x-python",
   "name": "python",
   "nbconvert_exporter": "python",
   "pygments_lexer": "ipython3",
   "version": "3.7.6"
  }
 },
 "nbformat": 4,
 "nbformat_minor": 4
}
