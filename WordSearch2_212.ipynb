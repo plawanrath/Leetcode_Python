{
 "cells": [
  {
   "cell_type": "markdown",
   "metadata": {},
   "source": [
    "#### Given a 2D board and a list of words from the dictionary find all words in the board"
   ]
  },
  {
   "cell_type": "code",
   "execution_count": 28,
   "metadata": {},
   "outputs": [],
   "source": [
    "from collections import defaultdict\n",
    "class TrieNode:\n",
    "    def __init__(self):\n",
    "        self.children = defaultdict(TrieNode)\n",
    "        self.word = None\n",
    "\n",
    "class Trie:\n",
    "    def __init__(self):\n",
    "        self.root = TrieNode()\n",
    "    \n",
    "    def addWord(self, word):\n",
    "        start = self.root\n",
    "        for c in word:\n",
    "            start = start.children[c]\n",
    "        start.word = word\n",
    "    \n",
    "class WordSearch:\n",
    "    def __init__(self):\n",
    "        self.matchedWords = set()\n",
    "        self._init_board()\n",
    "        \n",
    "    def _init_board(self, board=None):\n",
    "        self.board = board\n",
    "        self.rowLen = len(board) if board else None\n",
    "        self.colLen = len(board[0]) if board else None\n",
    "        \n",
    "    def findWords(self, board, words):\n",
    "        self._init_board(board)\n",
    "        trie = Trie()\n",
    "        for word in words:\n",
    "            trie.addWord(word)\n",
    "        for row in range(self.rowLen):\n",
    "            for col in range(self.colLen):\n",
    "                # start from each of the cells\n",
    "                if board[row][col] in trie.root.children:\n",
    "                    self.backtracking(row, col, trie.root)\n",
    "        return list(self.matchedWords)\n",
    "        \n",
    "    def backtracking(self, row, col, parent):\n",
    "        letter = self.board[row][col]\n",
    "        currNode = parent.children[letter]\n",
    "        if currNode.word is not None:\n",
    "            self.matchedWords.add(currNode.word)\n",
    "        board[row][col] = '#' # mark the cell as visited\n",
    "        for (rowDir, colDir) in [(-1,0),(1,0),(0,-1),(0,1)]:\n",
    "            newRow, newCol = row + rowDir, col + colDir\n",
    "            if newRow < 0 or newRow >= self.rowLen or newCol < 0 or newCol >= self.colLen:\n",
    "                continue\n",
    "            if self.board[newRow][newCol] not in currNode.children:\n",
    "                continue\n",
    "            self.backtracking(newRow, newCol, currNode)\n",
    "        \n",
    "        # After exploring all neighbors we restore the cell\n",
    "        self.board[row][col] = letter"
   ]
  },
  {
   "cell_type": "code",
   "execution_count": 29,
   "metadata": {},
   "outputs": [
    {
     "data": {
      "text/plain": [
       "['oath', 'eat']"
      ]
     },
     "execution_count": 29,
     "metadata": {},
     "output_type": "execute_result"
    }
   ],
   "source": [
    "board = [['o','a','a','n'],['e','t','a','e'],['i','h','k','r'],['i','f','l','v']]\n",
    "words = [\"oath\",\"pea\",\"eat\",\"rain\"]\n",
    "ws = WordSearch()\n",
    "ws.findWords(board, words)"
   ]
  },
  {
   "cell_type": "code",
   "execution_count": null,
   "metadata": {},
   "outputs": [],
   "source": []
  }
 ],
 "metadata": {
  "kernelspec": {
   "display_name": "Python 3",
   "language": "python",
   "name": "python3"
  },
  "language_info": {
   "codemirror_mode": {
    "name": "ipython",
    "version": 3
   },
   "file_extension": ".py",
   "mimetype": "text/x-python",
   "name": "python",
   "nbconvert_exporter": "python",
   "pygments_lexer": "ipython3",
   "version": "3.7.6"
  }
 },
 "nbformat": 4,
 "nbformat_minor": 4
}
