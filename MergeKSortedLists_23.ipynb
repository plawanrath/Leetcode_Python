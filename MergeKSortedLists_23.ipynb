{
 "cells": [
  {
   "cell_type": "code",
   "execution_count": 1,
   "metadata": {},
   "outputs": [],
   "source": [
    "class ListNode:\n",
    "    def __init__(self, x):\n",
    "        self.val = x\n",
    "        self.next = None"
   ]
  },
  {
   "cell_type": "code",
   "execution_count": 4,
   "metadata": {},
   "outputs": [],
   "source": [
    "def mergeKLists(lists):\n",
    "    amount = len(lists)\n",
    "    if not amount:\n",
    "        return None\n",
    "    interval = 1\n",
    "    while interval < amount:\n",
    "        for i in range(0, amount-interval, interval*2):\n",
    "            lists[i] = merge2Lists(lists[i], lists[i + interval])\n",
    "        interval *= 2\n",
    "    return lists[0] if amount > 0 else lists\n",
    "\n",
    "def merge2Lists(l1, l2):\n",
    "    head = point = ListNode(0)\n",
    "    while l1 and l2:\n",
    "        if l1.val <= l2.val:\n",
    "            point.next = l1\n",
    "            l1 = l1.next\n",
    "        else:\n",
    "            point.next = l2\n",
    "            l2 = l2.next\n",
    "        point = point.next\n",
    "    if not l1:\n",
    "        point.next = l2\n",
    "    else:\n",
    "        point.next = l1\n",
    "    return head.next"
   ]
  },
  {
   "cell_type": "code",
   "execution_count": 5,
   "metadata": {},
   "outputs": [
    {
     "name": "stdout",
     "output_type": "stream",
     "text": [
      "0\n",
      "2\n",
      "4\n",
      "6\n",
      "8\n"
     ]
    }
   ],
   "source": [
    "for x in range(0, 10, 2):\n",
    "    print (x)"
   ]
  },
  {
   "cell_type": "code",
   "execution_count": null,
   "metadata": {},
   "outputs": [],
   "source": []
  }
 ],
 "metadata": {
  "kernelspec": {
   "display_name": "Python 3",
   "language": "python",
   "name": "python3"
  },
  "language_info": {
   "codemirror_mode": {
    "name": "ipython",
    "version": 3
   },
   "file_extension": ".py",
   "mimetype": "text/x-python",
   "name": "python",
   "nbconvert_exporter": "python",
   "pygments_lexer": "ipython3",
   "version": "3.7.6"
  }
 },
 "nbformat": 4,
 "nbformat_minor": 4
}
