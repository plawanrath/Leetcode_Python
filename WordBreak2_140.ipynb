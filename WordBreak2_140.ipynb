{
 "cells": [
  {
   "cell_type": "code",
   "execution_count": 14,
   "metadata": {},
   "outputs": [],
   "source": [
    "from collections import defaultdict\n",
    "def wordBreak(s, wordDict):\n",
    "    # Recursion with memorization\n",
    "    res = defaultdict(list)\n",
    "    res[0] = [['']]\n",
    "    def dfs(i):\n",
    "        if i < 0:\n",
    "            return\n",
    "        for w in wordDict:\n",
    "            if s[i - len(w):i] == w:\n",
    "                if i - len(w) not in res:\n",
    "                    dfs(i - len(w))\n",
    "                for prefix in res[i - len(w)]:\n",
    "                    res[i].append(prefix + [w])\n",
    "    \n",
    "    dfs(len(s))\n",
    "    return [\" \".join(words[1:]) for words in res[len(s)]]"
   ]
  },
  {
   "cell_type": "code",
   "execution_count": 15,
   "metadata": {},
   "outputs": [
    {
     "data": {
      "text/plain": [
       "['cats and dog', 'cat sand dog']"
      ]
     },
     "execution_count": 15,
     "metadata": {},
     "output_type": "execute_result"
    }
   ],
   "source": [
    "s = \"catsanddog\"\n",
    "wordDict = [\"cat\", \"cats\", \"and\", \"sand\", \"dog\"]\n",
    "wordBreak(s, wordDict)"
   ]
  },
  {
   "cell_type": "code",
   "execution_count": null,
   "metadata": {},
   "outputs": [],
   "source": []
  }
 ],
 "metadata": {
  "kernelspec": {
   "display_name": "Python 3",
   "language": "python",
   "name": "python3"
  },
  "language_info": {
   "codemirror_mode": {
    "name": "ipython",
    "version": 3
   },
   "file_extension": ".py",
   "mimetype": "text/x-python",
   "name": "python",
   "nbconvert_exporter": "python",
   "pygments_lexer": "ipython3",
   "version": "3.7.6"
  }
 },
 "nbformat": 4,
 "nbformat_minor": 4
}
