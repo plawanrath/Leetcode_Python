{
 "cells": [
  {
   "cell_type": "markdown",
   "metadata": {},
   "source": [
    "### Given a target amount n and a list of distinct coin values, what's the fewest coins needed to maje the change amount"
   ]
  },
  {
   "cell_type": "code",
   "execution_count": 6,
   "metadata": {},
   "outputs": [],
   "source": [
    "def rec_coin(target,coins): # Inefficient (too many recursive calls)\n",
    "    min_coins = target\n",
    "    if target in coins:\n",
    "        return 1\n",
    "    else:\n",
    "        for i in [c for c in coins if c <= target]:\n",
    "            num_coins = 1 + rec_coin(target-i, coins)\n",
    "            if num_coins < min_coins:\n",
    "                min_coins = num_coins\n",
    "        return min_coins"
   ]
  },
  {
   "cell_type": "code",
   "execution_count": 7,
   "metadata": {},
   "outputs": [
    {
     "data": {
      "text/plain": [
       "1"
      ]
     },
     "execution_count": 7,
     "metadata": {},
     "output_type": "execute_result"
    }
   ],
   "source": [
    "rec_coin(10,[1,5, 10])"
   ]
  },
  {
   "cell_type": "code",
   "execution_count": 11,
   "metadata": {},
   "outputs": [],
   "source": [
    "def rec_coin_dp(target, coins, known_results):\n",
    "    min_coins = target\n",
    "    \n",
    "    if target in coins:\n",
    "        known_results[target] = 1\n",
    "        return 1\n",
    "    \n",
    "    # Return the number of coins if we already calculated and stored\n",
    "    elif known_results[target] > 0:\n",
    "        return known_results[target]\n",
    "    \n",
    "    else:\n",
    "        for i in [c for c in coins if c <= target]:\n",
    "            num_coins = 1 + rec_coin_dp(target - i, coins, known_results)\n",
    "            if num_coins < min_coins:\n",
    "                min_coins = num_coins\n",
    "                known_results[target] = min_coins\n",
    "        return min_coins"
   ]
  },
  {
   "cell_type": "code",
   "execution_count": 12,
   "metadata": {},
   "outputs": [
    {
     "data": {
      "text/plain": [
       "8"
      ]
     },
     "execution_count": 12,
     "metadata": {},
     "output_type": "execute_result"
    }
   ],
   "source": [
    "rec_coin_dp(74, [1,5,10,25],[0]*(75))"
   ]
  },
  {
   "cell_type": "code",
   "execution_count": null,
   "metadata": {},
   "outputs": [],
   "source": []
  }
 ],
 "metadata": {
  "kernelspec": {
   "display_name": "Python 3",
   "language": "python",
   "name": "python3"
  },
  "language_info": {
   "codemirror_mode": {
    "name": "ipython",
    "version": 3
   },
   "file_extension": ".py",
   "mimetype": "text/x-python",
   "name": "python",
   "nbconvert_exporter": "python",
   "pygments_lexer": "ipython3",
   "version": "3.7.6"
  }
 },
 "nbformat": 4,
 "nbformat_minor": 4
}
