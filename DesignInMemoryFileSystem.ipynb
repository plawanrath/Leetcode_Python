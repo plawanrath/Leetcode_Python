{
 "cells": [
  {
   "cell_type": "code",
   "execution_count": 2,
   "metadata": {},
   "outputs": [],
   "source": [
    "class TrieNode:\n",
    "    def __init__(self):\n",
    "        self.next = {}\n",
    "        self.contents = ''\n",
    "\n",
    "class FileSystem:\n",
    "    def __init__(self):\n",
    "        self.value = TrieNode()\n",
    "    \n",
    "    def insert(self, path):\n",
    "        root = self.value\n",
    "        for char in path.split('/')[1:]:\n",
    "            if char not in root.next:\n",
    "                root.next[char] = TrieNode()\n",
    "            root = root.next[char]\n",
    "        return root\n",
    "    \n",
    "    def search(self, path):\n",
    "        root = self.value\n",
    "        for char in path.split('/')[1:]:\n",
    "            if char not in root.next:\n",
    "                return root\n",
    "            root = root.next[char]\n",
    "        return root\n",
    "    \n",
    "    def ls(self, path):\n",
    "        tmp_list = [path.split('/')[-1]] # Extract the filename if its a filepath\n",
    "        root = self.search(path)\n",
    "        if root.contents:\n",
    "            return tmp_list # Its a file if there are contents\n",
    "        tmp_list = sorted(root.next.keys())\n",
    "        return tmp_list\n",
    "    \n",
    "    def mkdir(self, path):\n",
    "        self.insert(path)\n",
    "    \n",
    "    def addContentToFile(self, filePath, content):\n",
    "        root = self.insert(filePath)\n",
    "        root.contents += content\n",
    "    \n",
    "    def readContentFromFile(self, filePath):\n",
    "        root = self.search(filePath)\n",
    "        return root.contents\n"
   ]
  },
  {
   "cell_type": "code",
   "execution_count": 5,
   "metadata": {},
   "outputs": [
    {
     "data": {
      "text/plain": [
       "['a', 'b', 'c', 'd']"
      ]
     },
     "execution_count": 5,
     "metadata": {},
     "output_type": "execute_result"
    }
   ],
   "source": [
    "path = \"/a/b/c/d\"\n",
    "path.split('/')[1:]"
   ]
  },
  {
   "cell_type": "code",
   "execution_count": 6,
   "metadata": {},
   "outputs": [
    {
     "data": {
      "text/plain": [
       "['d']"
      ]
     },
     "execution_count": 6,
     "metadata": {},
     "output_type": "execute_result"
    }
   ],
   "source": [
    "[path.split('/')[-1]]"
   ]
  },
  {
   "cell_type": "code",
   "execution_count": null,
   "metadata": {},
   "outputs": [],
   "source": []
  }
 ],
 "metadata": {
  "kernelspec": {
   "display_name": "Python 3",
   "language": "python",
   "name": "python3"
  },
  "language_info": {
   "codemirror_mode": {
    "name": "ipython",
    "version": 3
   },
   "file_extension": ".py",
   "mimetype": "text/x-python",
   "name": "python",
   "nbconvert_exporter": "python",
   "pygments_lexer": "ipython3",
   "version": "3.7.6"
  }
 },
 "nbformat": 4,
 "nbformat_minor": 4
}
