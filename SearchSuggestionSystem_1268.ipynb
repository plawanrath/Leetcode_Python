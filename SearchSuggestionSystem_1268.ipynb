{
 "cells": [
  {
   "cell_type": "markdown",
   "metadata": {},
   "source": [
    "#### Return list of lists of the suggested products after each character of searchWord is typed. "
   ]
  },
  {
   "cell_type": "markdown",
   "metadata": {},
   "source": [
    "### Using Trie"
   ]
  },
  {
   "cell_type": "code",
   "execution_count": 4,
   "metadata": {},
   "outputs": [],
   "source": [
    "class Node:\n",
    "    def __init__(self):\n",
    "        self.children = {}\n",
    "        self.suggestions = []\n",
    "\n",
    "class Trie:\n",
    "    def __init__(self):\n",
    "        self.root = Node()\n",
    "    \n",
    "    def add(self, word):\n",
    "        p = self.root\n",
    "        for c in word:\n",
    "            if c not in p.children:\n",
    "                p.children[c] = Node()\n",
    "            \n",
    "            if len(p.suggestions) < 3: # Add only 3 suggestions since we only need those many\n",
    "                p.suggestions.append(word)\n",
    "            p = p.children[c]\n",
    "        # for the last node\n",
    "        if len(p.suggestions) < 3:\n",
    "            p.suggestions.append(word)\n",
    "    \n",
    "    def findSuggestions(self, word):\n",
    "        p = self.root\n",
    "        suggestions = []\n",
    "        mismatch = False\n",
    "        for c in word:\n",
    "            if not mismatch:\n",
    "                if c in p.children:\n",
    "                    p = p.children[c]\n",
    "                    suggestions.append(p.suggestions)\n",
    "                else:\n",
    "                    mismatch = True\n",
    "            if mismatch:\n",
    "                suggestions.append([])\n",
    "        return suggestions"
   ]
  },
  {
   "cell_type": "code",
   "execution_count": 5,
   "metadata": {},
   "outputs": [],
   "source": [
    "def suggestedProducts(products, searchWord):\n",
    "    if len(products) == 1 and products[0] == searchWord:\n",
    "        return [[searchWord] for i in range(len(searchWord))]\n",
    "    products.sort()\n",
    "    trie = Trie()\n",
    "    for product in products:\n",
    "        trie.add(product)\n",
    "    return trie.findSuggestions(searchWord)"
   ]
  },
  {
   "cell_type": "code",
   "execution_count": 6,
   "metadata": {},
   "outputs": [
    {
     "data": {
      "text/plain": [
       "[['mobile', 'moneypot', 'monitor'],\n",
       " ['mobile', 'moneypot', 'monitor'],\n",
       " ['mouse', 'mousepad'],\n",
       " ['mouse', 'mousepad'],\n",
       " ['mouse', 'mousepad']]"
      ]
     },
     "execution_count": 6,
     "metadata": {},
     "output_type": "execute_result"
    }
   ],
   "source": [
    "products = [\"mobile\",\"mouse\",\"moneypot\",\"monitor\",\"mousepad\"]\n",
    "searchWord = \"mouse\"\n",
    "suggestedProducts(products, searchWord)"
   ]
  },
  {
   "cell_type": "code",
   "execution_count": 7,
   "metadata": {},
   "outputs": [
    {
     "data": {
      "text/plain": [
       "[['baggage', 'bags', 'banner'],\n",
       " ['baggage', 'bags', 'banner'],\n",
       " ['baggage', 'bags'],\n",
       " ['bags']]"
      ]
     },
     "execution_count": 7,
     "metadata": {},
     "output_type": "execute_result"
    }
   ],
   "source": [
    "products2 = [\"bags\",\"baggage\",\"banner\",\"box\",\"cloths\"]\n",
    "searchWord2 = \"bags\"\n",
    "suggestedProducts(products2, searchWord2)"
   ]
  },
  {
   "cell_type": "code",
   "execution_count": 8,
   "metadata": {},
   "outputs": [
    {
     "data": {
      "text/plain": [
       "[[], [], [], [], [], [], []]"
      ]
     },
     "execution_count": 8,
     "metadata": {},
     "output_type": "execute_result"
    }
   ],
   "source": [
    "products3 = [\"havana\"]\n",
    "searchWord3 = \"tatiana\"\n",
    "suggestedProducts(products3, searchWord3)"
   ]
  },
  {
   "cell_type": "markdown",
   "metadata": {},
   "source": [
    "### Without Trie and O(1) space"
   ]
  },
  {
   "cell_type": "code",
   "execution_count": 22,
   "metadata": {},
   "outputs": [],
   "source": [
    "def suggestProducts_2(products, searchWord):\n",
    "    products.sort()\n",
    "    # Use two iter to hold the target words between\n",
    "    start, end, res = 0, len(products)-1, []\n",
    "    for index, c in enumerate(searchWord):\n",
    "        # Check between start and end to prevent unusable move\n",
    "        # Check lenth of current \"product string\" to prevent \"search word\" longer than \"product string\"\n",
    "        while start <= end and (products[start][index] < c if len(products[start]) > index else True):\n",
    "            start += 1\n",
    "        while start <= end and (products[end][index] > c if len(products[end]) > index else True):\n",
    "            end -= 1\n",
    "        \n",
    "        res.append(products[start:start+3] if end > start + 1 else products[start:end+1])\n",
    "    return res"
   ]
  },
  {
   "cell_type": "code",
   "execution_count": 23,
   "metadata": {},
   "outputs": [
    {
     "data": {
      "text/plain": [
       "[['mobile', 'moneypot', 'monitor'],\n",
       " ['mobile', 'moneypot', 'monitor'],\n",
       " ['mouse', 'mousepad'],\n",
       " ['mouse', 'mousepad'],\n",
       " ['mouse', 'mousepad']]"
      ]
     },
     "execution_count": 23,
     "metadata": {},
     "output_type": "execute_result"
    }
   ],
   "source": [
    "suggestProducts_2(products, searchWord)"
   ]
  },
  {
   "cell_type": "code",
   "execution_count": 11,
   "metadata": {},
   "outputs": [
    {
     "data": {
      "text/plain": [
       "[['baggage', 'bags', 'banner'],\n",
       " ['baggage', 'bags', 'banner'],\n",
       " ['baggage', 'bags'],\n",
       " ['bags']]"
      ]
     },
     "execution_count": 11,
     "metadata": {},
     "output_type": "execute_result"
    }
   ],
   "source": [
    "suggestedProducts(products2, searchWord2)"
   ]
  },
  {
   "cell_type": "code",
   "execution_count": 12,
   "metadata": {},
   "outputs": [
    {
     "data": {
      "text/plain": [
       "[[], [], [], [], [], [], []]"
      ]
     },
     "execution_count": 12,
     "metadata": {},
     "output_type": "execute_result"
    }
   ],
   "source": [
    "suggestedProducts(products3, searchWord3)"
   ]
  },
  {
   "cell_type": "code",
   "execution_count": null,
   "metadata": {},
   "outputs": [],
   "source": []
  }
 ],
 "metadata": {
  "kernelspec": {
   "display_name": "Python 3",
   "language": "python",
   "name": "python3"
  },
  "language_info": {
   "codemirror_mode": {
    "name": "ipython",
    "version": 3
   },
   "file_extension": ".py",
   "mimetype": "text/x-python",
   "name": "python",
   "nbconvert_exporter": "python",
   "pygments_lexer": "ipython3",
   "version": "3.7.6"
  }
 },
 "nbformat": 4,
 "nbformat_minor": 4
}
