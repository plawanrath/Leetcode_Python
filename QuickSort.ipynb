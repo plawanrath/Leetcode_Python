{
 "cells": [
  {
   "cell_type": "code",
   "execution_count": 3,
   "metadata": {},
   "outputs": [],
   "source": [
    "def quick_sort(arr):\n",
    "    quick_sort_helper(arr, 0, len(arr)-1)\n",
    "\n",
    "def quick_sort_helper(arr, first, last):\n",
    "    \n",
    "    if first < last:\n",
    "        splitpoint = partition(arr, first, last)\n",
    "        quick_sort_helper(arr, first, splitpoint - 1)\n",
    "        quick_sort_helper(arr, splitpoint + 1, last)\n",
    "\n",
    "def partition(arr, first, last):\n",
    "    \n",
    "    pivotVal = arr[first]\n",
    "    left, right = first + 1, last\n",
    "    \n",
    "    done = False\n",
    "    \n",
    "    while not done:\n",
    "        while left <= right and arr[left] <= pivotVal:\n",
    "            left += 1\n",
    "        while arr[right] >= pivotVal and right >= left:\n",
    "            right -= 1\n",
    "        \n",
    "        if right < left:\n",
    "            done = True\n",
    "        else:\n",
    "            arr[left], arr[right] = arr[right], arr[left]\n",
    "    \n",
    "    arr[first], arr[right] = arr[right], arr[first]\n",
    "    return right"
   ]
  },
  {
   "cell_type": "code",
   "execution_count": 4,
   "metadata": {},
   "outputs": [
    {
     "data": {
      "text/plain": [
       "[2, 2, 4, 5, 6, 7, 11, 14, 18, 23, 45]"
      ]
     },
     "execution_count": 4,
     "metadata": {},
     "output_type": "execute_result"
    }
   ],
   "source": [
    "arr = [11, 2, 18, 5, 4, 6, 7, 23, 45, 2, 14]\n",
    "quick_sort(arr)\n",
    "arr"
   ]
  },
  {
   "cell_type": "code",
   "execution_count": null,
   "metadata": {},
   "outputs": [],
   "source": []
  }
 ],
 "metadata": {
  "kernelspec": {
   "display_name": "Python 3",
   "language": "python",
   "name": "python3"
  },
  "language_info": {
   "codemirror_mode": {
    "name": "ipython",
    "version": 3
   },
   "file_extension": ".py",
   "mimetype": "text/x-python",
   "name": "python",
   "nbconvert_exporter": "python",
   "pygments_lexer": "ipython3",
   "version": "3.7.6"
  }
 },
 "nbformat": 4,
 "nbformat_minor": 4
}
