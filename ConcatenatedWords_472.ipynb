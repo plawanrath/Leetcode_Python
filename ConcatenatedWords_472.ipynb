{
 "cells": [
  {
   "cell_type": "markdown",
   "metadata": {},
   "source": [
    "#### Given a list of words (without duplicates), please write a program that returns all concatenated words in the given list of words.\n",
    "#### A concatenated word is defined as a string that is comprised entirely of at least two shorter words in the given array."
   ]
  },
  {
   "cell_type": "code",
   "execution_count": 7,
   "metadata": {},
   "outputs": [],
   "source": [
    "class Node:\n",
    "    def __init__(self):\n",
    "        self.children = {}\n",
    "        self.is_end = False\n",
    "\n",
    "class Trie:\n",
    "    def __init__(self):\n",
    "        self.root = Node()\n",
    "        \n",
    "    def add(self, word):\n",
    "        p = self.root\n",
    "        for c in word:\n",
    "            if c not in p.children:\n",
    "                p.children[c] = Node()\n",
    "            p = p.children[c]\n",
    "        p.is_end = True\n",
    "    \n",
    "    def findWord(self, word, start, end, count):\n",
    "        p = self.root\n",
    "        for x in range(start, end + 1):\n",
    "            if word[x] in p.children:\n",
    "                p = p.children[word[x]]\n",
    "                if p.is_end:\n",
    "                    if x == end:\n",
    "                        return count >= 1\n",
    "                    if self.findWord(word, x+1, end, count + 1):\n",
    "                        return True\n",
    "            else:\n",
    "                break\n",
    "        return False"
   ]
  },
  {
   "cell_type": "code",
   "execution_count": 8,
   "metadata": {},
   "outputs": [],
   "source": [
    "def findAllConcatenatedWordsInADict(words):\n",
    "    res = []\n",
    "    t = Trie()\n",
    "    for word in words:\n",
    "        t.add(word)\n",
    "    for word in words:\n",
    "        if t.findWord(word, 0, len(word) -  1, 0):\n",
    "            res.append(word)\n",
    "    return res"
   ]
  },
  {
   "cell_type": "code",
   "execution_count": 9,
   "metadata": {},
   "outputs": [
    {
     "data": {
      "text/plain": [
       "['catsdogcats', 'dogcatsdog', 'ratcatdogcat']"
      ]
     },
     "execution_count": 9,
     "metadata": {},
     "output_type": "execute_result"
    }
   ],
   "source": [
    "wordList = [\"cat\",\"cats\",\"catsdogcats\",\"dog\",\"dogcatsdog\",\"hippopotamuses\",\"rat\",\"ratcatdogcat\"]\n",
    "findAllConcatenatedWordsInADict(wordList)"
   ]
  },
  {
   "cell_type": "code",
   "execution_count": null,
   "metadata": {},
   "outputs": [],
   "source": []
  }
 ],
 "metadata": {
  "kernelspec": {
   "display_name": "Python 3",
   "language": "python",
   "name": "python3"
  },
  "language_info": {
   "codemirror_mode": {
    "name": "ipython",
    "version": 3
   },
   "file_extension": ".py",
   "mimetype": "text/x-python",
   "name": "python",
   "nbconvert_exporter": "python",
   "pygments_lexer": "ipython3",
   "version": "3.7.6"
  }
 },
 "nbformat": 4,
 "nbformat_minor": 4
}
