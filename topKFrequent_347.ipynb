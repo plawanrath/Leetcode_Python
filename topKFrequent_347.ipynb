{
 "cells": [
  {
   "cell_type": "code",
   "execution_count": 8,
   "metadata": {},
   "outputs": [],
   "source": [
    "from collections import Counter\n",
    "from queue import PriorityQueue\n",
    "def topKFrequent(nums, k):\n",
    "    freqMap = Counter(nums)\n",
    "    q = PriorityQueue()\n",
    "    for num, freq in freqMap.items():\n",
    "        q.put((-freq, num))\n",
    "    if len(freqMap) == k:\n",
    "        return list(freqMap.keys())\n",
    "    return [q.get()[1] for _ in range(k)]"
   ]
  },
  {
   "cell_type": "code",
   "execution_count": 9,
   "metadata": {},
   "outputs": [
    {
     "data": {
      "text/plain": [
       "[1, 2]"
      ]
     },
     "execution_count": 9,
     "metadata": {},
     "output_type": "execute_result"
    }
   ],
   "source": [
    "nums = [1,1,1,2,2,3]\n",
    "k = 2\n",
    "topKFrequent(nums, k)"
   ]
  },
  {
   "cell_type": "code",
   "execution_count": 10,
   "metadata": {},
   "outputs": [],
   "source": [
    "# Using Quick select\n",
    "'''\n",
    "1 use counter to count frequency of each element O(n)\n",
    "2. use partition/quick-select to find k-most biggest frequency O(n)\n",
    "3. find the minimum frequency in the k-most biggest frequency list O(n)\n",
    "4. Use that threshold to find keys in the dictionary. O(n)\n",
    "'''\n",
    "def topKFrequent_QuickSelect(nums, k):\n",
    "    freqMap = Counter(nums)\n",
    "    n = len(list(freqMap.keys()))\n",
    "    if n == k:\n",
    "        return list(freqMap.keys())\n",
    "    count = freqMap.values()\n",
    "    output = []\n",
    "    kBiggestFreqList = []\n",
    "    while k != 0:\n",
    "        i = partition(count, k)\n",
    "        if i == k:\n",
    "            kBiggestFreqList = count[:i]\n",
    "            k = 0\n",
    "        elif i < k:\n",
    "            kBiggestFreqList += count[:i]\n",
    "            count = count[i:]\n",
    "            k = k - i\n",
    "        else:\n",
    "            count = count[:i-1]\n",
    "    threshold = min(kBiggestFreqList)\n",
    "    for key in freqMap:\n",
    "        if freqMap[key] >= threshold:\n",
    "            output.append(key)\n",
    "    return output\n",
    "\n",
    "def partition(count, k):\n",
    "    pivot = count[-1]\n",
    "    i = 0\n",
    "    for index, val in enumerate(count):\n",
    "        if val >= pivot:\n",
    "            count[index], count[i] = count[i], count[index]\n",
    "            i+=1\n",
    "    return i"
   ]
  },
  {
   "cell_type": "code",
   "execution_count": 11,
   "metadata": {},
   "outputs": [
    {
     "data": {
      "text/plain": [
       "[1, 2]"
      ]
     },
     "execution_count": 11,
     "metadata": {},
     "output_type": "execute_result"
    }
   ],
   "source": [
    "topKFrequent(nums, k)"
   ]
  },
  {
   "cell_type": "code",
   "execution_count": null,
   "metadata": {},
   "outputs": [],
   "source": []
  }
 ],
 "metadata": {
  "kernelspec": {
   "display_name": "Python 3",
   "language": "python",
   "name": "python3"
  },
  "language_info": {
   "codemirror_mode": {
    "name": "ipython",
    "version": 3
   },
   "file_extension": ".py",
   "mimetype": "text/x-python",
   "name": "python",
   "nbconvert_exporter": "python",
   "pygments_lexer": "ipython3",
   "version": "3.7.6"
  }
 },
 "nbformat": 4,
 "nbformat_minor": 4
}
