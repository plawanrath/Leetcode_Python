{
 "cells": [
  {
   "cell_type": "code",
   "execution_count": 10,
   "metadata": {},
   "outputs": [],
   "source": [
    "import heapq\n",
    "class MedianFinder:\n",
    "    def __init__(self):\n",
    "        self.minHeap = [] # This should store the larger half of input numbers\n",
    "        self.maxHeap = [] # This should store the smaller half of input\n",
    "        self.length = 0\n",
    "    \n",
    "    def addNum(self, num):\n",
    "        if not self.minHeap or self.minHeap[0] <= num:\n",
    "            heapq.heappush(self.minHeap, num)\n",
    "        else:\n",
    "            heapq.heappush(self.maxHeap, -num)\n",
    "        \n",
    "        if len(self.minHeap) > len(self.maxHeap)+1:\n",
    "            val = heapq.heappop(self.minHeap)\n",
    "            heapq.heappush(self.maxHeap, -val)\n",
    "        elif len(self.maxHeap) > len(self.minHeap):\n",
    "            val = -heapq.heappop(self.maxHeap)\n",
    "            heapq.heappush(self.minHeap, val)\n",
    "        self.length += 1\n",
    "    \n",
    "    def findMedian(self):\n",
    "        val1 = self.minHeap[0]\n",
    "        if self.length % 2 == 1:\n",
    "            return val1\n",
    "        val2 = -self.maxHeap[0]\n",
    "        return (val1+val2)/2"
   ]
  },
  {
   "cell_type": "code",
   "execution_count": 11,
   "metadata": {},
   "outputs": [
    {
     "name": "stdout",
     "output_type": "stream",
     "text": [
      "2\n"
     ]
    }
   ],
   "source": [
    "mf = MedianFinder()\n",
    "mf.addNum(2)\n",
    "print (mf.findMedian())"
   ]
  },
  {
   "cell_type": "code",
   "execution_count": 12,
   "metadata": {},
   "outputs": [
    {
     "name": "stdout",
     "output_type": "stream",
     "text": [
      "2.5\n"
     ]
    }
   ],
   "source": [
    "mf.addNum(3)\n",
    "print (mf.findMedian())"
   ]
  },
  {
   "cell_type": "code",
   "execution_count": 13,
   "metadata": {},
   "outputs": [
    {
     "name": "stdout",
     "output_type": "stream",
     "text": [
      "3\n"
     ]
    }
   ],
   "source": [
    "mf.addNum(6)\n",
    "print (mf.findMedian())"
   ]
  },
  {
   "cell_type": "code",
   "execution_count": 14,
   "metadata": {},
   "outputs": [
    {
     "name": "stdout",
     "output_type": "stream",
     "text": [
      "4.5\n"
     ]
    }
   ],
   "source": [
    "mf.addNum(7)\n",
    "print (mf.findMedian())"
   ]
  },
  {
   "cell_type": "code",
   "execution_count": null,
   "metadata": {},
   "outputs": [],
   "source": []
  }
 ],
 "metadata": {
  "kernelspec": {
   "display_name": "Python 3",
   "language": "python",
   "name": "python3"
  },
  "language_info": {
   "codemirror_mode": {
    "name": "ipython",
    "version": 3
   },
   "file_extension": ".py",
   "mimetype": "text/x-python",
   "name": "python",
   "nbconvert_exporter": "python",
   "pygments_lexer": "ipython3",
   "version": "3.7.6"
  }
 },
 "nbformat": 4,
 "nbformat_minor": 4
}
