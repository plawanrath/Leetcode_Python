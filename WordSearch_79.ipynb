{
 "cells": [
  {
   "cell_type": "code",
   "execution_count": 4,
   "metadata": {},
   "outputs": [],
   "source": [
    "def exists(board, word):\n",
    "    for i in range(len(board)):\n",
    "        for j in range(len(board[0])):\n",
    "            if dfs(board, word, i, j, []):\n",
    "                return True\n",
    "    return False\n",
    "\n",
    "def dfs(board, word, r, c, visited):\n",
    "    if not word:\n",
    "        return True\n",
    "    if (r,c) in visited or r < 0 or r >=len(board) or c < 0 or c >= len(board[0]) or board[r][c] != word[0]:\n",
    "        return False\n",
    "    return (\n",
    "        dfs(board, word[1:], r+1, c, visited + [(r, c)])\n",
    "        or dfs(board, word[1:], r, c+1, visited + [(r, c)])\n",
    "        or dfs(board, word[1:], r-1, c, visited + [(r, c)])\n",
    "        or dfs(board, word[1:], r, c-1, visited + [(r, c)])\n",
    "    )"
   ]
  },
  {
   "cell_type": "code",
   "execution_count": 5,
   "metadata": {},
   "outputs": [
    {
     "data": {
      "text/plain": [
       "True"
      ]
     },
     "execution_count": 5,
     "metadata": {},
     "output_type": "execute_result"
    }
   ],
   "source": [
    "board = [\n",
    "  ['A','B','C','E'],\n",
    "  ['S','F','C','S'],\n",
    "  ['A','D','E','E']\n",
    "]\n",
    "word = \"ABCCED\"\n",
    "exists(board, word)"
   ]
  },
  {
   "cell_type": "code",
   "execution_count": null,
   "metadata": {},
   "outputs": [],
   "source": []
  }
 ],
 "metadata": {
  "kernelspec": {
   "display_name": "Python 3",
   "language": "python",
   "name": "python3"
  },
  "language_info": {
   "codemirror_mode": {
    "name": "ipython",
    "version": 3
   },
   "file_extension": ".py",
   "mimetype": "text/x-python",
   "name": "python",
   "nbconvert_exporter": "python",
   "pygments_lexer": "ipython3",
   "version": "3.7.6"
  }
 },
 "nbformat": 4,
 "nbformat_minor": 4
}
