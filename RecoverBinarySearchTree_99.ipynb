{
 "cells": [
  {
   "cell_type": "code",
   "execution_count": 2,
   "metadata": {},
   "outputs": [],
   "source": [
    "class TreeNode:\n",
    "    def __init__(self, val, left=None, right=None):\n",
    "        self.val = val\n",
    "        self.left = left\n",
    "        self.right = right\n",
    "\n",
    "def recoverTree(self, root: TreeNode) -> None:\n",
    "    # Inorder traversal will give an almost sorted array with 2 elements swapped\n",
    "    # Iterative inorder traversal to identify the swapped nodes and fix the nodes \n",
    "    # if needed in one pass\n",
    "    stack = []\n",
    "    x = y = predesessor = None\n",
    "    while stack or root:\n",
    "        while root:\n",
    "            stack.append(root)\n",
    "            root = root.left\n",
    "        root = stack.pop()\n",
    "        if predesessor and root.val < predesessor.val:\n",
    "            y = root\n",
    "            if x is None:\n",
    "                x = predesessor\n",
    "        predesessor = root\n",
    "        root = root.right\n",
    "    x.val, y.val = y.val, x.val"
   ]
  },
  {
   "cell_type": "code",
   "execution_count": null,
   "metadata": {},
   "outputs": [],
   "source": []
  }
 ],
 "metadata": {
  "kernelspec": {
   "display_name": "Python 3",
   "language": "python",
   "name": "python3"
  },
  "language_info": {
   "codemirror_mode": {
    "name": "ipython",
    "version": 3
   },
   "file_extension": ".py",
   "mimetype": "text/x-python",
   "name": "python",
   "nbconvert_exporter": "python",
   "pygments_lexer": "ipython3",
   "version": "3.7.6"
  }
 },
 "nbformat": 4,
 "nbformat_minor": 4
}
