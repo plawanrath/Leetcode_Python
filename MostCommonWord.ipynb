{
 "cells": [
  {
   "cell_type": "code",
   "execution_count": 49,
   "metadata": {},
   "outputs": [],
   "source": [
    "from collections import OrderedDict # ordered dict remembers the order in which the values were entered\n",
    "from collections import defaultdict\n",
    "from typing import List\n",
    "def mostCommonWord(paragraph: str, banned: List[str]) -> str:\n",
    "    paragraph = paragraph.lower()\n",
    "    worddict = defaultdict(int)\n",
    "    \n",
    "    if not paragraph:\n",
    "        return None\n",
    "    formatted_paragraph = \"\".join((char if char.isalpha() else \" \") for char in paragraph).split()\n",
    "    banned_set = set(banned)\n",
    "    maxword, maxcount = '', 0\n",
    "    for word in formatted_paragraph:\n",
    "        if word not in banned_set:\n",
    "            worddict[word] += 1\n",
    "            if worddict[word] > maxcount:\n",
    "                maxword, maxcount = word, worddict[word]\n",
    "#     worddict = OrderedDict(sorted(worddict.items(), key=lambda t: t[1], reverse = True))\n",
    "#     return list(worddict.keys())[0]\n",
    "    return maxword"
   ]
  },
  {
   "cell_type": "code",
   "execution_count": 50,
   "metadata": {},
   "outputs": [
    {
     "data": {
      "text/plain": [
       "'ball'"
      ]
     },
     "execution_count": 50,
     "metadata": {},
     "output_type": "execute_result"
    }
   ],
   "source": [
    "paragraph = \"Bob hit a ball, the hit BALL flew far after it was hit.\"\n",
    "banned = [\"hit\"]\n",
    "mostCommonWord(paragraph, banned)"
   ]
  },
  {
   "cell_type": "code",
   "execution_count": 42,
   "metadata": {},
   "outputs": [],
   "source": [
    "from collections import Counter\n",
    "def mostCommonWord_Counter(paragraph, banned):\n",
    "    bannedset = set(banned)\n",
    "    paragraph = paragraph.lower()\n",
    "    paragraph = \"\".join((char if char.isalpha() else \" \") for char in paragraph).split()\n",
    "    countdict = Counter(word for word in paragraph)\n",
    "    res, best = '', 0\n",
    "    for word in countdict:\n",
    "        if countdict[word] > best and word not in bannedset:\n",
    "            res, best = word, countdict[word]\n",
    "    return res"
   ]
  },
  {
   "cell_type": "code",
   "execution_count": 43,
   "metadata": {},
   "outputs": [
    {
     "data": {
      "text/plain": [
       "'ball'"
      ]
     },
     "execution_count": 43,
     "metadata": {},
     "output_type": "execute_result"
    }
   ],
   "source": [
    "mostCommonWord_Counter(paragraph, banned)"
   ]
  },
  {
   "cell_type": "code",
   "execution_count": null,
   "metadata": {},
   "outputs": [],
   "source": []
  }
 ],
 "metadata": {
  "kernelspec": {
   "display_name": "Python 3",
   "language": "python",
   "name": "python3"
  },
  "language_info": {
   "codemirror_mode": {
    "name": "ipython",
    "version": 3
   },
   "file_extension": ".py",
   "mimetype": "text/x-python",
   "name": "python",
   "nbconvert_exporter": "python",
   "pygments_lexer": "ipython3",
   "version": "3.7.6"
  }
 },
 "nbformat": 4,
 "nbformat_minor": 4
}
