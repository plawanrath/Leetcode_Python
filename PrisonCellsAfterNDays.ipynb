{
 "cells": [
  {
   "cell_type": "markdown",
   "metadata": {},
   "source": [
    "#### For each day, we will decrement N, the number of days remaining, and transform the state of the prison forward (state -> nextDay(state)).\n",
    "\n",
    "#### If we reach a state we have seen before, we know how many days ago it occurred, say t. Then, because of this cycle, we can do N %= t. This ensures that our algorithm only needs O(2**{\\text{cells.length}})O(2∗∗cells.length) steps."
   ]
  },
  {
   "cell_type": "code",
   "execution_count": 1,
   "metadata": {},
   "outputs": [],
   "source": [
    "def prisonAfterNDays(cells, n):\n",
    "    def nextDay(cells):\n",
    "        return [int(i > 0 and i < 7 and cells[i - 1] == cells[i + 1]) for i in range(8)]\n",
    "    seen = {} # This stores on which day this pattern was last seen\n",
    "    while n > 0:\n",
    "        c = tuple(cells) # since tuples cannot be changed they serve as good keys\n",
    "        if c in seen:\n",
    "            n %= seen[c] - n\n",
    "        seen[c] = n\n",
    "        if n >= 1:\n",
    "            n -= 1\n",
    "            cells = nextDay(cells)\n",
    "    return cells"
   ]
  },
  {
   "cell_type": "code",
   "execution_count": 2,
   "metadata": {},
   "outputs": [
    {
     "data": {
      "text/plain": [
       "[0, 0, 1, 1, 0, 0, 0, 0]"
      ]
     },
     "execution_count": 2,
     "metadata": {},
     "output_type": "execute_result"
    }
   ],
   "source": [
    "cells = [0,1,0,1,1,0,0,1]\n",
    "N = 7\n",
    "prisonAfterNDays(cells, N)"
   ]
  },
  {
   "cell_type": "code",
   "execution_count": null,
   "metadata": {},
   "outputs": [],
   "source": []
  }
 ],
 "metadata": {
  "kernelspec": {
   "display_name": "Python 3",
   "language": "python",
   "name": "python3"
  },
  "language_info": {
   "codemirror_mode": {
    "name": "ipython",
    "version": 3
   },
   "file_extension": ".py",
   "mimetype": "text/x-python",
   "name": "python",
   "nbconvert_exporter": "python",
   "pygments_lexer": "ipython3",
   "version": "3.7.6"
  }
 },
 "nbformat": 4,
 "nbformat_minor": 4
}
