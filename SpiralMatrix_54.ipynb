{
 "cells": [
  {
   "cell_type": "code",
   "execution_count": 13,
   "metadata": {},
   "outputs": [],
   "source": [
    "def spiralOrder(matrix):\n",
    "    if matrix == []:\n",
    "        return []\n",
    "\n",
    "    # i,j is the index of runner, d is direction\n",
    "    i, j, d = 0, 0, 'right'\n",
    "\n",
    "    # m, n are boundary of 4 sides\n",
    "    m1, m2 = 0, len(matrix) - 1\n",
    "    n1, n2 = 0, len(matrix[0]) - 1\n",
    "    ans = [matrix[0][0]]\n",
    "\n",
    "    # Once runner reachs boundary, change the direction\n",
    "    while len(ans) < len(matrix) * len(matrix[0]):\n",
    "        if d == 'right':\n",
    "            if j < n2:\n",
    "                j += 1\n",
    "            else:\n",
    "                d = 'down'\n",
    "                i += 1\n",
    "                m1 += 1\n",
    "        elif d == 'down':\n",
    "            if i < m2:\n",
    "                i += 1\n",
    "            else:\n",
    "                d = 'left'\n",
    "                j -= 1\n",
    "                n2 -= 1\n",
    "        elif d == 'left':\n",
    "            if j > n1:\n",
    "                j -= 1\n",
    "            else:\n",
    "                d = 'up'\n",
    "                i -= 1\n",
    "                m2 -= 1\n",
    "        elif d == 'up':\n",
    "            if i > m1:\n",
    "                i -= 1\n",
    "            else:\n",
    "                d = 'right'\n",
    "                j += 1\n",
    "                n1 += 1\n",
    "        ans.append(matrix[i][j])\n",
    "    return ans"
   ]
  },
  {
   "cell_type": "code",
   "execution_count": 14,
   "metadata": {},
   "outputs": [
    {
     "data": {
      "text/plain": [
       "['1',\n",
       " '1',\n",
       " '1',\n",
       " '1',\n",
       " '0',\n",
       " '0',\n",
       " '0',\n",
       " '0',\n",
       " '0',\n",
       " '0',\n",
       " '0',\n",
       " '0',\n",
       " '1',\n",
       " '1',\n",
       " '1',\n",
       " '0',\n",
       " '1',\n",
       " '0',\n",
       " '0',\n",
       " '1']"
      ]
     },
     "execution_count": 14,
     "metadata": {},
     "output_type": "execute_result"
    }
   ],
   "source": [
    "grid = [[\"1\",\"1\",\"1\",\"1\",\"0\"],[\"1\",\"1\",\"0\",\"1\",\"0\"],[\"1\",\"1\",\"0\",\"0\",\"0\"],[\"0\",\"0\",\"0\",\"0\",\"0\"]]\n",
    "spiralOrder(grid)"
   ]
  },
  {
   "cell_type": "code",
   "execution_count": null,
   "metadata": {},
   "outputs": [],
   "source": []
  }
 ],
 "metadata": {
  "kernelspec": {
   "display_name": "Python 3",
   "language": "python",
   "name": "python3"
  },
  "language_info": {
   "codemirror_mode": {
    "name": "ipython",
    "version": 3
   },
   "file_extension": ".py",
   "mimetype": "text/x-python",
   "name": "python",
   "nbconvert_exporter": "python",
   "pygments_lexer": "ipython3",
   "version": "3.7.6"
  }
 },
 "nbformat": 4,
 "nbformat_minor": 4
}
