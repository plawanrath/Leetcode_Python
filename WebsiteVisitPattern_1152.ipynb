{
 "cells": [
  {
   "cell_type": "code",
   "execution_count": 28,
   "metadata": {},
   "outputs": [],
   "source": [
    "from collections import defaultdict\n",
    "from itertools import combinations\n",
    "import heapq\n",
    "'''\n",
    "1) The idea is to use min heap to sort the websites visited by each user in ascending order.\n",
    "2) then use a dict with users as keys and visited website as values\n",
    "3) traverse through each of these lists of websites and create a sequence of 3 for all possible combinations\n",
    "4) find the count for each of the sequence\n",
    "'''\n",
    "def mostVisitedPattern(username, timestamp, website):\n",
    "    pq = []\n",
    "    for u, t, w in zip(username, timestamp, website):\n",
    "        pq.append((t, w, u))\n",
    "    heapq.heapify(pq)\n",
    "    userMap = defaultdict(list)\n",
    "    while pq:\n",
    "        _, web, user = heapq.heappop(pq)\n",
    "        userMap[user].append(web)\n",
    "    seqCountMap = defaultdict(int)\n",
    "    max_count = 0\n",
    "    result = ()\n",
    "    \n",
    "    for websites in userMap.values():\n",
    "        combos = combinations(websites, 3) # get all possible 3 sequences\n",
    "        for seq in set(combos):\n",
    "            # since we want the count of a sequence visited by most \n",
    "            # number of users, if a user visits the same sequence multiple times, it is counted as 1\n",
    "            seqCountMap[seq] += 1\n",
    "            \n",
    "            if seqCountMap[seq] > max_count:\n",
    "                max_count = seqCountMap[seq]\n",
    "                result = seq\n",
    "            elif seqCountMap[seq] == max_count: \n",
    "                # If the count is same and you find a sequence with a smaller lexographical order\n",
    "                if seq < result:\n",
    "                    result = seq\n",
    "    return list(result)"
   ]
  },
  {
   "cell_type": "code",
   "execution_count": 29,
   "metadata": {},
   "outputs": [
    {
     "data": {
      "text/plain": [
       "['home', 'about', 'career']"
      ]
     },
     "execution_count": 29,
     "metadata": {},
     "output_type": "execute_result"
    }
   ],
   "source": [
    "username = [\"joe\",\"joe\",\"joe\",\"james\",\"james\",\"james\",\"james\",\"mary\",\"mary\",\"mary\"]\n",
    "timestamp = [1,2,3,4,5,6,7,8,9,10]\n",
    "website = [\"home\",\"about\",\"career\",\"home\",\"cart\",\"maps\",\"home\",\"home\",\"about\",\"career\"]\n",
    "mostVisitedPattern(username, timestamp, website)"
   ]
  },
  {
   "cell_type": "code",
   "execution_count": 30,
   "metadata": {},
   "outputs": [
    {
     "data": {
      "text/plain": [
       "['a', 'b', 'a']"
      ]
     },
     "execution_count": 30,
     "metadata": {},
     "output_type": "execute_result"
    }
   ],
   "source": [
    "usrs = [\"u1\",\"u1\",\"u1\",\"u2\",\"u2\",\"u2\"]\n",
    "ts = [1,2,3,4,5,6]\n",
    "websites = [\"a\",\"b\",\"a\",\"a\",\"b\",\"c\"]\n",
    "mostVisitedPattern(usrs, ts, websites)"
   ]
  },
  {
   "cell_type": "code",
   "execution_count": null,
   "metadata": {},
   "outputs": [],
   "source": []
  }
 ],
 "metadata": {
  "kernelspec": {
   "display_name": "Python 3",
   "language": "python",
   "name": "python3"
  },
  "language_info": {
   "codemirror_mode": {
    "name": "ipython",
    "version": 3
   },
   "file_extension": ".py",
   "mimetype": "text/x-python",
   "name": "python",
   "nbconvert_exporter": "python",
   "pygments_lexer": "ipython3",
   "version": "3.7.6"
  }
 },
 "nbformat": 4,
 "nbformat_minor": 4
}
