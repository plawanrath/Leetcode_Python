{
 "cells": [
  {
   "cell_type": "code",
   "execution_count": 1,
   "metadata": {},
   "outputs": [],
   "source": [
    "from collections import OrderedDict\n",
    "class LRUCache(OrderedDict):\n",
    "    \n",
    "    def __init__(self, capacity):\n",
    "        self.capacity = capacity\n",
    "    \n",
    "    def get(self, key):\n",
    "        if key not in self:\n",
    "            return -1\n",
    "        self.move_to_end(key)\n",
    "        return self[key]\n",
    "    \n",
    "    def put(self, key, value):\n",
    "        if key in self:\n",
    "            self.move_to_end(key)\n",
    "        self[key] = value\n",
    "        if len(self) > self.capacity:\n",
    "            self.popitem(last = False)"
   ]
  },
  {
   "cell_type": "code",
   "execution_count": 2,
   "metadata": {},
   "outputs": [
    {
     "name": "stdout",
     "output_type": "stream",
     "text": [
      "LRUCache([(1, 2)])\n",
      "LRUCache([(2, 3), (1, 4)])\n",
      "LRUCache([(1, 4), (4, 5)])\n"
     ]
    }
   ],
   "source": [
    "cache = LRUCache(2)\n",
    "cache.put(1, 2)\n",
    "print (cache)\n",
    "cache.put(2, 3)\n",
    "cache.put(1, 4)\n",
    "print(cache)\n",
    "cache.put(4, 5)\n",
    "print(cache)"
   ]
  },
  {
   "cell_type": "code",
   "execution_count": 10,
   "metadata": {},
   "outputs": [],
   "source": [
    "class LRUCache_2:\n",
    "    def __init__(self, capacity):\n",
    "        self.capacity = capacity\n",
    "        self.cache = OrderedDict()\n",
    "    \n",
    "    def get(self, key):\n",
    "        val = -1\n",
    "        if key in self.cache:\n",
    "            val = self.cache.pop(key)\n",
    "            self.cache[key] = val\n",
    "        return val\n",
    "    \n",
    "    def put(self, key, value):\n",
    "        if key in self.cache:\n",
    "            self.cache.pop(key)\n",
    "            self.cache[key] = value\n",
    "        elif self.capacity > len(self.cache):\n",
    "            self.cache[key] = value\n",
    "        else:\n",
    "            discard = list(self.cache.keys())[0]\n",
    "            self.cache.pop(discard)\n",
    "            self.cache[key] = value\n"
   ]
  },
  {
   "cell_type": "code",
   "execution_count": null,
   "metadata": {},
   "outputs": [],
   "source": []
  }
 ],
 "metadata": {
  "kernelspec": {
   "display_name": "Python 3",
   "language": "python",
   "name": "python3"
  },
  "language_info": {
   "codemirror_mode": {
    "name": "ipython",
    "version": 3
   },
   "file_extension": ".py",
   "mimetype": "text/x-python",
   "name": "python",
   "nbconvert_exporter": "python",
   "pygments_lexer": "ipython3",
   "version": "3.7.6"
  }
 },
 "nbformat": 4,
 "nbformat_minor": 4
}
