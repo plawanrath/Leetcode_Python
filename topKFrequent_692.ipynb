{
 "cells": [
  {
   "cell_type": "code",
   "execution_count": 61,
   "metadata": {},
   "outputs": [],
   "source": [
    "# THIS DOES NOT YIELD THE CORRECT RESULT\n",
    "# When you you build a max heap ona. tuple using built in heapq it will build by ordering with both values of the \n",
    "# tuple. See line [71] as an example. So the approach in line [66] is optimal.\n",
    "import heapq\n",
    "from collections import Counter\n",
    "from typing import List\n",
    "def topKFrequent(words: List[str], k: int) -> List[str]:\n",
    "    # Make a dict of frequency and then invert the dict and put the keys in a heap then print the top\n",
    "    # k elements of the max heap\n",
    "    if not words:\n",
    "        return words\n",
    "    wordFrequencyMap = Counter(words)\n",
    "    frequencyHeap = [(value, key) for key, value in wordFrequencyMap.items()]\n",
    "    heapq._heapify_max(frequencyHeap)\n",
    "    return [heapq._heappop_max(frequencyHeap)[1] for _ in range(k)]"
   ]
  },
  {
   "cell_type": "code",
   "execution_count": 62,
   "metadata": {},
   "outputs": [
    {
     "name": "stdout",
     "output_type": "stream",
     "text": [
      "[('the', 4), ('day', 1), ('is', 3), ('sunny', 2)]\n",
      "[(4, 'the'), (1, 'day'), (3, 'is'), (2, 'sunny')]\n",
      "[(4, 'the'), (2, 'sunny'), (3, 'is'), (1, 'day')]\n"
     ]
    },
    {
     "data": {
      "text/plain": [
       "['the', 'is', 'sunny', 'day']"
      ]
     },
     "execution_count": 62,
     "metadata": {},
     "output_type": "execute_result"
    }
   ],
   "source": [
    "input = [\"the\", \"day\", \"is\", \"sunny\", \"the\", \"the\", \"the\", \"sunny\", \"is\", \"is\"]\n",
    "k = 4\n",
    "topKFrequent(input, k)"
   ]
  },
  {
   "cell_type": "code",
   "execution_count": 63,
   "metadata": {},
   "outputs": [
    {
     "name": "stdout",
     "output_type": "stream",
     "text": [
      "[('i', 2), ('love', 2), ('leetcode', 1), ('coding', 1)]\n",
      "[(2, 'i'), (2, 'love'), (1, 'leetcode'), (1, 'coding')]\n",
      "[(2, 'love'), (2, 'i'), (1, 'leetcode'), (1, 'coding')]\n"
     ]
    },
    {
     "data": {
      "text/plain": [
       "['love', 'i']"
      ]
     },
     "execution_count": 63,
     "metadata": {},
     "output_type": "execute_result"
    }
   ],
   "source": [
    "input2 = [\"i\", \"love\", \"leetcode\", \"i\", \"love\", \"coding\"]\n",
    "k = 2\n",
    "topKFrequent(input2, k)"
   ]
  },
  {
   "cell_type": "code",
   "execution_count": 66,
   "metadata": {},
   "outputs": [],
   "source": [
    "def topKFreq(words, k):\n",
    "    # Build a dictionary of frequencies and then invert the dict into a tuple of frequency, word but \n",
    "    # instead of building a maxheap of frequencies, negate the frequencies and build a min heap of \n",
    "    # tuples that will give you a heap with ascending order of negative frequencies and also ascending order of\n",
    "    # alphabets which since we negated the frequencies ensures that the most freqnet element stays at the top\n",
    "    # of the min heap.\n",
    "    count = Counter(words)\n",
    "    print (count)\n",
    "    heap = [(-freq, word) for word, freq in count.items()]\n",
    "    print (heap)\n",
    "    heapq.heapify(heap)\n",
    "    print (heap)\n",
    "    return [heapq.heappop(heap)[1] for _ in range(k)]"
   ]
  },
  {
   "cell_type": "code",
   "execution_count": 67,
   "metadata": {},
   "outputs": [
    {
     "name": "stdout",
     "output_type": "stream",
     "text": [
      "Counter({'i': 2, 'love': 2, 'leetcode': 1, 'coding': 1})\n",
      "[(-2, 'i'), (-2, 'love'), (-1, 'leetcode'), (-1, 'coding')]\n",
      "[(-2, 'i'), (-2, 'love'), (-1, 'leetcode'), (-1, 'coding')]\n"
     ]
    },
    {
     "data": {
      "text/plain": [
       "['i', 'love']"
      ]
     },
     "execution_count": 67,
     "metadata": {},
     "output_type": "execute_result"
    }
   ],
   "source": [
    "topKFreq(input2, k)"
   ]
  },
  {
   "cell_type": "code",
   "execution_count": 71,
   "metadata": {},
   "outputs": [
    {
     "name": "stdout",
     "output_type": "stream",
     "text": [
      "(3, 'b')\n",
      "(-3, 'a')\n",
      "[(3, 'a'), (1, 'd'), (2, 'c')]\n",
      "[(-3, 'b'), (-1, 'd'), (-2, 'c')]\n"
     ]
    }
   ],
   "source": [
    "l1 = [(3, 'a'), (3, 'b'), (2, 'c'), (1, 'd')]\n",
    "l2 = [(-3, 'a'), (-3, 'b'), (-2, 'c'), (-1, 'd')]\n",
    "heapq._heapify_max(l1)\n",
    "heapq.heapify(l2)\n",
    "print (heapq._heappop_max(l1))\n",
    "print(heapq.heappop(l2))\n",
    "print (l1)\n",
    "print (l2)"
   ]
  },
  {
   "cell_type": "code",
   "execution_count": null,
   "metadata": {},
   "outputs": [],
   "source": []
  }
 ],
 "metadata": {
  "kernelspec": {
   "display_name": "Python 3",
   "language": "python",
   "name": "python3"
  },
  "language_info": {
   "codemirror_mode": {
    "name": "ipython",
    "version": 3
   },
   "file_extension": ".py",
   "mimetype": "text/x-python",
   "name": "python",
   "nbconvert_exporter": "python",
   "pygments_lexer": "ipython3",
   "version": "3.7.6"
  }
 },
 "nbformat": 4,
 "nbformat_minor": 4
}
