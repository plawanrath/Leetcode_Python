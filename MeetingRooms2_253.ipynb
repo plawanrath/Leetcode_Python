{
 "cells": [
  {
   "cell_type": "code",
   "execution_count": 7,
   "metadata": {},
   "outputs": [],
   "source": [
    "from queue import PriorityQueue\n",
    "def minMeetingRooms(intervals):\n",
    "    if not intervals:\n",
    "        return 0\n",
    "    intervals.sort(key=lambda x: x[0]) # sort by start time\n",
    "    pq = PriorityQueue()\n",
    "    pq.put(intervals[0][1])\n",
    "    for i in range(1, len(intervals)):\n",
    "        curr = pq.get()\n",
    "        if intervals[i][0] < curr:\n",
    "            pq.put(curr)\n",
    "        pq.put(intervals[i][1])\n",
    "    return pq.qsize()"
   ]
  },
  {
   "cell_type": "code",
   "execution_count": 8,
   "metadata": {},
   "outputs": [
    {
     "data": {
      "text/plain": [
       "2"
      ]
     },
     "execution_count": 8,
     "metadata": {},
     "output_type": "execute_result"
    }
   ],
   "source": [
    "input = [[0, 30],[5, 10],[15, 20]]\n",
    "minMeetingRooms(input)"
   ]
  },
  {
   "cell_type": "code",
   "execution_count": null,
   "metadata": {},
   "outputs": [],
   "source": []
  }
 ],
 "metadata": {
  "kernelspec": {
   "display_name": "Python 3",
   "language": "python",
   "name": "python3"
  },
  "language_info": {
   "codemirror_mode": {
    "name": "ipython",
    "version": 3
   },
   "file_extension": ".py",
   "mimetype": "text/x-python",
   "name": "python",
   "nbconvert_exporter": "python",
   "pygments_lexer": "ipython3",
   "version": "3.7.6"
  }
 },
 "nbformat": 4,
 "nbformat_minor": 4
}
