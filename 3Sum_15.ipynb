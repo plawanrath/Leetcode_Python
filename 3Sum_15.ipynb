{
 "cells": [
  {
   "cell_type": "code",
   "execution_count": 4,
   "metadata": {},
   "outputs": [],
   "source": [
    "def threeSum(nums):\n",
    "    res = []\n",
    "    nums.sort()\n",
    "    for i in range(len(nums)):\n",
    "        if nums[i] > 0:\n",
    "            break\n",
    "        if i == 0 or nums[i-1] != nums[i]:\n",
    "            twoSum(nums, i, res)\n",
    "    return res\n",
    "\n",
    "def twoSum(nums, i, res):\n",
    "    low, high = i+1, len(nums) - 1\n",
    "    while (low < high):\n",
    "        sum = nums[i] + nums[low] + nums[high]\n",
    "        if sum < 0 or (low > i+1 and nums[low] == nums[low-1]):\n",
    "            low += 1\n",
    "        elif sum > 0 or (high < len(nums)-1 and nums[high] == nums[high+1]):\n",
    "            high -= 1\n",
    "        else:\n",
    "            res.append([nums[i], nums[low], nums[high]])\n",
    "            low += 1\n",
    "            high -= 1"
   ]
  },
  {
   "cell_type": "code",
   "execution_count": 5,
   "metadata": {},
   "outputs": [
    {
     "data": {
      "text/plain": [
       "[[-1, -1, 2], [-1, 0, 1]]"
      ]
     },
     "execution_count": 5,
     "metadata": {},
     "output_type": "execute_result"
    }
   ],
   "source": [
    "nums = [-1, 0, 1, 2, -1, -4]\n",
    "threeSum(nums)"
   ]
  },
  {
   "cell_type": "code",
   "execution_count": 8,
   "metadata": {},
   "outputs": [],
   "source": [
    "def threeSum2(nums):\n",
    "    res = set()  # use set\n",
    "    nums.sort()\n",
    "    if (not nums) or nums[0] > 0 or nums[len(nums)-1] < 0:\n",
    "        return []\n",
    "    for k in range(len(nums)-2):\n",
    "        if nums[k] > 0:\n",
    "            break\n",
    "        # not check duplicate value\n",
    "        target = 0-nums[k]\n",
    "        i = k+1\n",
    "        j = len(nums)-1\n",
    "        while(i < j):\n",
    "            if nums[i]+nums[j] == target:\n",
    "                tmp = (nums[k], nums[i], nums[j])\n",
    "                res.add(tmp)  # add tuple to set\n",
    "                while(i < j and nums[i] == nums[i+1]):\n",
    "                    i = i+1\n",
    "                while(i < j and nums[j] == nums[j-1]):\n",
    "                    j = j-1\n",
    "                i = i+1\n",
    "                j = j-1\n",
    "            elif nums[i]+nums[j] < target:\n",
    "                i = i+1\n",
    "            else:\n",
    "                j = j-1\n",
    "    return [list(r) for r in res]  # convert tuple of set to list"
   ]
  },
  {
   "cell_type": "code",
   "execution_count": 9,
   "metadata": {},
   "outputs": [
    {
     "data": {
      "text/plain": [
       "[[-1, -1, 2], [-1, 0, 1]]"
      ]
     },
     "execution_count": 9,
     "metadata": {},
     "output_type": "execute_result"
    }
   ],
   "source": [
    "threeSum2(nums)"
   ]
  },
  {
   "cell_type": "code",
   "execution_count": null,
   "metadata": {},
   "outputs": [],
   "source": []
  }
 ],
 "metadata": {
  "kernelspec": {
   "display_name": "Python 3",
   "language": "python",
   "name": "python3"
  },
  "language_info": {
   "codemirror_mode": {
    "name": "ipython",
    "version": 3
   },
   "file_extension": ".py",
   "mimetype": "text/x-python",
   "name": "python",
   "nbconvert_exporter": "python",
   "pygments_lexer": "ipython3",
   "version": "3.7.6"
  }
 },
 "nbformat": 4,
 "nbformat_minor": 4
}
