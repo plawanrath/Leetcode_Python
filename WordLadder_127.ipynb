{
 "cells": [
  {
   "cell_type": "code",
   "execution_count": 5,
   "metadata": {},
   "outputs": [],
   "source": [
    "from collections import defaultdict\n",
    "from collections import deque\n",
    "def wordLadderLength(beinWord, endWord, wordList):\n",
    "    # Form dictionary to hold words that can be formed from any word by changing one letter.\n",
    "    # BFS\n",
    "    if not endWord or not beginWord or not wordList or endWord not in wordList:\n",
    "        return 0\n",
    "    # We will form a dictionary of a generic word with * for letter that we remove and value\n",
    "    # will be a list of words that can be formed with that generic word.\n",
    "    word_combos = defaultdict(list)\n",
    "    for word in wordList:\n",
    "        for i in range(len(beginWord)): # This is safe to do since all words would have to be of same length\n",
    "            word_combos[word[:i] + '*' + word[i+1:]].append(word)\n",
    "    queue = deque([(beginWord, 1)])\n",
    "    # visited to avoid repetition of words\n",
    "    visited = {beginWord: True}\n",
    "    while queue:\n",
    "        current_word, level = queue.popleft()\n",
    "        for i in range(len(beginWord)):\n",
    "            intermediate_word = current_word[:i] + '*' + current_word[i+1:]\n",
    "            for word in word_combos[intermediate_word]:\n",
    "                if word == endWord:\n",
    "                    return level + 1\n",
    "                if word not in visited:\n",
    "                    visited[word] = True\n",
    "                    queue.append((word, level+1))\n",
    "            # This doesn't seem necessary but doing this might save some iterations.\n",
    "            word_combos[intermediate_word] = []\n",
    "    return 0"
   ]
  },
  {
   "cell_type": "code",
   "execution_count": 6,
   "metadata": {},
   "outputs": [
    {
     "data": {
      "text/plain": [
       "5"
      ]
     },
     "execution_count": 6,
     "metadata": {},
     "output_type": "execute_result"
    }
   ],
   "source": [
    "beginWord = \"hit\"\n",
    "endWord = \"cog\"\n",
    "wordList = [\"hot\",\"dot\",\"dog\",\"lot\",\"log\",\"cog\"]\n",
    "wordLadderLength(beginWord, endWord, wordList)"
   ]
  },
  {
   "cell_type": "code",
   "execution_count": null,
   "metadata": {},
   "outputs": [],
   "source": []
  }
 ],
 "metadata": {
  "kernelspec": {
   "display_name": "Python 3",
   "language": "python",
   "name": "python3"
  },
  "language_info": {
   "codemirror_mode": {
    "name": "ipython",
    "version": 3
   },
   "file_extension": ".py",
   "mimetype": "text/x-python",
   "name": "python",
   "nbconvert_exporter": "python",
   "pygments_lexer": "ipython3",
   "version": "3.7.6"
  }
 },
 "nbformat": 4,
 "nbformat_minor": 4
}
