{
 "cells": [
  {
   "cell_type": "code",
   "execution_count": 8,
   "metadata": {},
   "outputs": [],
   "source": [
    "from collections import defaultdict\n",
    "def findOrder(numCourses, prerequisites):\n",
    "    '''\n",
    "    This problem is equivalent to finding the topological order in a \n",
    "    directed graph. If a cycle exists, no topological ordering exists \n",
    "    and therefore it will be impossible to take all courses.\n",
    "    So, we are given, that a pair such as [a, b][a,b] in the question means the \n",
    "    course b is a prerequisite for the course a. This can be represented as a \n",
    "    directed edge b ➔ a in the graph.\n",
    "    '''\n",
    "    res = []\n",
    "    \n",
    "    def dfs_visit(s, adj, visited, visiting):\n",
    "        visited.add(s)\n",
    "        visiting.add(s)\n",
    "        for v in adj[s]:\n",
    "            if v in visiting:\n",
    "                return False\n",
    "            elif v not in visited:\n",
    "                if not dfs_visit(v, adj, visited, visiting):\n",
    "                    return False\n",
    "        visiting.remove(s)\n",
    "        res.append(s)\n",
    "        return True\n",
    "    \n",
    "    def dfs(n, adj):\n",
    "        visited = set()\n",
    "        for v in range(n):\n",
    "            if v not in visited:\n",
    "                if not dfs_visit(v, adj, visited, set()):\n",
    "                    return False\n",
    "        return True\n",
    "    \n",
    "    adj = defaultdict(list)\n",
    "    for link in prerequisites:\n",
    "        adj[link[1]].append(link[0])\n",
    "    if not dfs(numCourses, adj):\n",
    "        return []\n",
    "    return list(reversed(res))"
   ]
  },
  {
   "cell_type": "code",
   "execution_count": 9,
   "metadata": {},
   "outputs": [
    {
     "data": {
      "text/plain": [
       "[0, 2, 1, 3]"
      ]
     },
     "execution_count": 9,
     "metadata": {},
     "output_type": "execute_result"
    }
   ],
   "source": [
    "findOrder(4, [[1,0],[2,0],[3,1],[3,2]])"
   ]
  },
  {
   "cell_type": "code",
   "execution_count": null,
   "metadata": {},
   "outputs": [],
   "source": []
  }
 ],
 "metadata": {
  "kernelspec": {
   "display_name": "Python 3",
   "language": "python",
   "name": "python3"
  },
  "language_info": {
   "codemirror_mode": {
    "name": "ipython",
    "version": 3
   },
   "file_extension": ".py",
   "mimetype": "text/x-python",
   "name": "python",
   "nbconvert_exporter": "python",
   "pygments_lexer": "ipython3",
   "version": "3.7.6"
  }
 },
 "nbformat": 4,
 "nbformat_minor": 4
}
