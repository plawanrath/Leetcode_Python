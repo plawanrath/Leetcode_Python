{
 "cells": [
  {
   "cell_type": "code",
   "execution_count": 3,
   "metadata": {},
   "outputs": [],
   "source": [
    "import heapq\n",
    "class TrieNode:\n",
    "    def __init__(self, letter):\n",
    "        self.children = {}\n",
    "        self.times = 0\n",
    "        self.letter = letter\n",
    "\n",
    "class AutocompleteSystem:\n",
    "    '''\n",
    "    Use trie to record all sentences and times.\n",
    "    Use DFS to find all applicable sentences; use heap to find the top sentences.\n",
    "    '''\n",
    "    def __init__(self, sentences, times):\n",
    "        self.root = TrieNode('')\n",
    "        self.setupTrie(sentences, times)\n",
    "        self.reset()\n",
    "    \n",
    "    def reset(self):\n",
    "        self.currNode = self.root\n",
    "        self.search = []\n",
    "    \n",
    "    def setupTrie(self, sentences, times):\n",
    "        for sentence, time in zip(sentences, times):\n",
    "            tmp = self.root\n",
    "            for c in sentence:\n",
    "                if c not in tmp.children:\n",
    "                    tmp.children[c] = TrieNode(c)\n",
    "                tmp = tmp.children[c]\n",
    "            tmp.times = time\n",
    "    \n",
    "    def find(self):\n",
    "        res = []\n",
    "        def dfs(node, currSentence):\n",
    "            if node.times > 0:\n",
    "                heapq.heappush(res, (-node.times, \"\".join(currSentence))) # max heap by times\n",
    "            for child in node.children.values():\n",
    "                currSentence.append(child.letter)\n",
    "                dfs(child, currSentence)\n",
    "                currSentence.pop()\n",
    "        dfs(self.currNode, self.search)\n",
    "        result = []\n",
    "        while res and len(result) < 3:\n",
    "            pair = heapq.heappop(res)\n",
    "            result.append(pair[1])\n",
    "        return result\n",
    "\n",
    "    def input(self, c):\n",
    "        if c == \"#\":\n",
    "            self.currNode.times += 1\n",
    "            self.reset()\n",
    "            return []\n",
    "        self.search.append(c)\n",
    "        if c in self.currNode.children:\n",
    "            self.currNode = self.currNode.children[c]\n",
    "        else:\n",
    "            child = TrieNode(c)\n",
    "            self.currNode.children[c] = child\n",
    "            self.currNode = child\n",
    "        return self.find()\n"
   ]
  },
  {
   "cell_type": "code",
   "execution_count": 5,
   "metadata": {},
   "outputs": [],
   "source": [
    "sentences = [\"i love you\", \"island\", \"ironman\", \"i love leetcode\"]\n",
    "times = [5, 3, 2, 2]\n",
    "autoCompleteSystem = AutocompleteSystem(sentences, times)"
   ]
  },
  {
   "cell_type": "code",
   "execution_count": 6,
   "metadata": {},
   "outputs": [
    {
     "data": {
      "text/plain": [
       "['i love you', 'island', 'i love leetcode']"
      ]
     },
     "execution_count": 6,
     "metadata": {},
     "output_type": "execute_result"
    }
   ],
   "source": [
    "autoCompleteSystem.input(\"i\")"
   ]
  },
  {
   "cell_type": "code",
   "execution_count": null,
   "metadata": {},
   "outputs": [],
   "source": []
  }
 ],
 "metadata": {
  "kernelspec": {
   "display_name": "Python 3",
   "language": "python",
   "name": "python3"
  },
  "language_info": {
   "codemirror_mode": {
    "name": "ipython",
    "version": 3
   },
   "file_extension": ".py",
   "mimetype": "text/x-python",
   "name": "python",
   "nbconvert_exporter": "python",
   "pygments_lexer": "ipython3",
   "version": "3.7.6"
  }
 },
 "nbformat": 4,
 "nbformat_minor": 4
}
