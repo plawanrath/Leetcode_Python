{
 "cells": [
  {
   "cell_type": "code",
   "execution_count": 2,
   "metadata": {},
   "outputs": [],
   "source": [
    "class TreeNode:\n",
    "    def __init__(self, val=0, left=None, right=None):\n",
    "        self.val = val\n",
    "        self.left = left\n",
    "        self.right = right\n",
    "        \n",
    "def verticalTraversal(root: TreeNode):\n",
    "    node_list = []\n",
    "\n",
    "    def DFS(node, row, column):\n",
    "        if node is not None:\n",
    "            node_list.append((column, row, node.val))\n",
    "            # preorder DFS\n",
    "            DFS(node.left, row + 1, column - 1)\n",
    "            DFS(node.right, row + 1, column + 1)\n",
    "\n",
    "    # step 1). construct the node list, with the coordinates\n",
    "    DFS(root, 0, 0)\n",
    "\n",
    "    # step 2). sort the node list globally, according to the coordinates\n",
    "    node_list.sort()\n",
    "\n",
    "    # step 3). retrieve the sorted results grouped by the column index\n",
    "    ret = []\n",
    "    curr_column_index = node_list[0][0]\n",
    "    curr_column = []\n",
    "    for column, row, value in node_list:\n",
    "        if column == curr_column_index:\n",
    "            curr_column.append(value)\n",
    "        else:\n",
    "            # end of a column, and start the next column\n",
    "            ret.append(curr_column)\n",
    "            curr_column_index = column\n",
    "            curr_column = [value]\n",
    "    # add the last column\n",
    "    ret.append(curr_column)\n",
    "\n",
    "    return ret"
   ]
  },
  {
   "cell_type": "code",
   "execution_count": null,
   "metadata": {},
   "outputs": [],
   "source": []
  }
 ],
 "metadata": {
  "kernelspec": {
   "display_name": "Python 3",
   "language": "python",
   "name": "python3"
  },
  "language_info": {
   "codemirror_mode": {
    "name": "ipython",
    "version": 3
   },
   "file_extension": ".py",
   "mimetype": "text/x-python",
   "name": "python",
   "nbconvert_exporter": "python",
   "pygments_lexer": "ipython3",
   "version": "3.7.6"
  }
 },
 "nbformat": 4,
 "nbformat_minor": 4
}
