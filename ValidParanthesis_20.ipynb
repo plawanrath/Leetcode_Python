{
 "cells": [
  {
   "cell_type": "code",
   "execution_count": 5,
   "metadata": {},
   "outputs": [],
   "source": [
    "def isValid(s):\n",
    "    if not s:\n",
    "        return True\n",
    "    stack = []\n",
    "    brackets = {\n",
    "        '{': '}',\n",
    "        '[': ']',\n",
    "        '(': ')',\n",
    "    }\n",
    "    for c in s:\n",
    "        if c in brackets:\n",
    "            stack.append(c)\n",
    "        elif c in brackets.values():\n",
    "            opening_brac = None\n",
    "            if stack:\n",
    "                opening_brac = stack.pop()\n",
    "            if not opening_brac or c != brackets[opening_brac]:\n",
    "                return False\n",
    "    if not stack:\n",
    "        return True\n",
    "    return False"
   ]
  },
  {
   "cell_type": "code",
   "execution_count": 7,
   "metadata": {},
   "outputs": [
    {
     "name": "stdout",
     "output_type": "stream",
     "text": [
      "True\n",
      "True\n",
      "False\n",
      "False\n",
      "False\n"
     ]
    }
   ],
   "source": [
    "input = [\"()\", \"()[]{}\", \"(]\", \"([)]\", \"]\"]\n",
    "for val in input:\n",
    "    print (isValid(val))"
   ]
  },
  {
   "cell_type": "code",
   "execution_count": null,
   "metadata": {},
   "outputs": [],
   "source": []
  }
 ],
 "metadata": {
  "kernelspec": {
   "display_name": "Python 3",
   "language": "python",
   "name": "python3"
  },
  "language_info": {
   "codemirror_mode": {
    "name": "ipython",
    "version": 3
   },
   "file_extension": ".py",
   "mimetype": "text/x-python",
   "name": "python",
   "nbconvert_exporter": "python",
   "pygments_lexer": "ipython3",
   "version": "3.7.6"
  }
 },
 "nbformat": 4,
 "nbformat_minor": 4
}
